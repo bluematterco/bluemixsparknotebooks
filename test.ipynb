{
    "nbformat": 4, 
    "metadata": {
        "language_info": {
            "pygments_lexer": "ipython3", 
            "codemirror_mode": {
                "version": 3, 
                "name": "ipython"
            }, 
            "nbconvert_exporter": "python", 
            "mimetype": "text/x-python", 
            "version": "3.5.2", 
            "file_extension": ".py", 
            "name": "python"
        }, 
        "kernelspec": {
            "language": "python", 
            "name": "python3", 
            "display_name": "Python 3.5 (Experimental) with Spark 1.6"
        }
    }, 
    "cells": [
        {
            "execution_count": 2, 
            "metadata": {
                "collapsed": false, 
                "scrolled": false
            }, 
            "source": "!pip install --user jupyterthemes", 
            "outputs": [
                {
                    "output_type": "stream", 
                    "name": "stdout", 
                    "text": "Collecting jupyterthemes\n  Using cached jupyterthemes-0.13.9-py2.py3-none-any.whl\nRequirement already satisfied (use --upgrade to upgrade): jupyter-core in /usr/local/src/conda3_runtime.v4/4.1.1/lib/python3.5/site-packages (from jupyterthemes)\nCollecting lesscpy>=0.12.0 (from jupyterthemes)\n  Using cached lesscpy-0.12.0-py2.py3-none-any.whl\nRequirement already satisfied (use --upgrade to upgrade): numpy in /usr/local/src/conda3_runtime.v4/4.1.1/lib/python3.5/site-packages (from jupyterthemes)\nRequirement already satisfied (use --upgrade to upgrade): jupyter in /usr/local/src/conda3_runtime.v4/4.1.1/lib/python3.5/site-packages (from jupyterthemes)\nRequirement already satisfied (use --upgrade to upgrade): ply in /usr/local/src/conda3_runtime.v4/4.1.1/lib/python3.5/site-packages (from lesscpy>=0.12.0->jupyterthemes)\nRequirement already satisfied (use --upgrade to upgrade): six in /usr/local/src/conda3_runtime.v4/4.1.1/lib/python3.5/site-packages (from lesscpy>=0.12.0->jupyterthemes)\nInstalling collected packages: lesscpy, jupyterthemes\nSuccessfully installed jupyterthemes-0.13.9 lesscpy-0.12.0\n"
                }
            ], 
            "cell_type": "code"
        }, 
        {
            "execution_count": 3, 
            "metadata": {
                "collapsed": false, 
                "scrolled": true
            }, 
            "source": "!jupyterthemes -l", 
            "outputs": [
                {
                    "output_type": "stream", 
                    "name": "stdout", 
                    "text": "/bin/sh: jupyterthemes: command not found\r\n"
                }
            ], 
            "cell_type": "code"
        }, 
        {
            "execution_count": 4, 
            "metadata": {
                "collapsed": false
            }, 
            "source": "!jt", 
            "outputs": [
                {
                    "output_type": "stream", 
                    "name": "stdout", 
                    "text": "/bin/sh: jt: command not found\r\n"
                }
            ], 
            "cell_type": "code"
        }, 
        {
            "execution_count": 4, 
            "metadata": {
                "collapsed": false
            }, 
            "source": "!pip freeze", 
            "outputs": [
                {
                    "output_type": "stream", 
                    "name": "stdout", 
                    "text": "attrs==16.3.0\r\nazure==1.0.3\r\nazure-common==1.1.4\r\nazure-mgmt==0.20.2\r\nazure-mgmt-common==0.20.0\r\nazure-mgmt-compute==0.20.1\r\nazure-mgmt-network==0.20.1\r\nazure-mgmt-nspkg==1.0.0\r\nazure-mgmt-resource==0.20.1\r\nazure-mgmt-storage==0.20.0\r\nazure-nspkg==1.0.0\r\nazure-servicebus==0.20.1\r\nazure-servicemanagement-legacy==0.20.2\r\nazure-storage==0.20.3\r\ncffi==1.9.1\r\nconstantly==15.1.0\r\ncryptography==1.7.1\r\ncssselect==1.0.0\r\ncycler==0.10.0\r\nenum34==1.1.6\r\nidna==2.2\r\nincremental==16.10.1\r\nipaddress==1.0.17\r\njupyter==1.0.0\r\njupyterthemes==0.13.9\r\nlesscpy==0.12.0\r\nlxml==3.6.4\r\nmatplotlib==1.5.3\r\nmaven-artifact==0.2.0\r\nmpld3==0.3\r\nmqlight==1.0.2015020201b1\r\nnumpy==1.11.2\r\nparsel==1.1.0\r\nply==3.9\r\nprotobuf==3.0.0a3\r\npyasn1==0.1.9\r\npyasn1-modules==0.0.8\r\npycparser==2.17\r\nPyDispatcher==2.0.5\r\npyOpenSSL==16.2.0\r\npyparsing==2.1.10\r\npysolr==3.6.0\r\npython-dateutil==2.6.0\r\npython-rake==1.0.7\r\npytz==2016.7\r\nqtconsole==4.2.1\r\nqueuelib==1.4.2\r\nrequests==2.12.1\r\nScrapy==1.3.0\r\nservice-identity==16.0.0\r\ntensorflow==0.6.0\r\nTwisted==16.6.0\r\nw3lib==1.16.0\r\nwatson-developer-cloud==0.22.0\r\nzope.interface==4.3.3\r\n"
                }
            ], 
            "cell_type": "code"
        }, 
        {
            "execution_count": 5, 
            "metadata": {
                "collapsed": false
            }, 
            "source": "!echo $PATH", 
            "outputs": [
                {
                    "output_type": "stream", 
                    "name": "stdout", 
                    "text": "/usr/local/src/conda3_runtime/4.1.1/bin/:/usr/local/src/scala/2.10/bin:/usr/local/src/spark160master/ibm-java-x86_64-80/bin:/usr/local/src/bluemix_jupyter_bundle.v31/notebook/bin:/usr/local/src/bluemix_jupyter_bundle.v31/notebook/system/bin:/usr/local/src/bluemix_jupyter_bundle.v31/notebook/freetype/bin:/bin\r\n"
                }
            ], 
            "cell_type": "code"
        }, 
        {
            "execution_count": 6, 
            "metadata": {
                "collapsed": false
            }, 
            "source": "!ls /usr/local/src/conda3_runtime/4.1.1/bin/", 
            "outputs": [
                {
                    "output_type": "stream", 
                    "name": "stdout", 
                    "text": "2to3\r\n2to3-3.5\r\nactivate\r\nactivate-global-python-argcomplete\r\nanaconda\r\nanaconda-navigator\r\nasadmin\r\nassistant-qt4\r\nbinstar\r\nblaze-server\r\nbokeh\r\nbokeh-server\r\nbundle_image\r\ncfadmin\r\nconda\r\nconda-build\r\nconda-convert\r\nconda-develop\r\nconda-env\r\nconda-index\r\nconda-inspect\r\nconda-metapackage\r\nconda-pipbuild\r\nconda-render\r\nconda-server\r\nconda-sign\r\nconda-skeleton\r\ncq\r\nc_rehash\r\ncurl\r\ncurl-config\r\ncurve_keygen\r\ncwutil\r\ncygdb\r\ncython\r\ncythonize\r\ndeactivate\r\ndesigner-qt4\r\ndynamodb_dump\r\ndynamodb_load\r\neasy_install\r\neasy_install-3.5\r\nelbadmin\r\nf2py\r\nfc-cache\r\nfc-cat\r\nfc-list\r\nfc-match\r\nfc-pattern\r\nfc-query\r\nfc-scan\r\nfc-validate\r\nfetch_file\r\nfits2bitmap\r\nfitscheck\r\nfitsdiff\r\nfitsheader\r\nfitsinfo\r\nflask\r\nfreetype-config\r\nfuturize\r\nget_objgraph.py\r\ngif2h5\r\nglacier\r\nh52gif\r\nh5c++\r\nh5cc\r\nh5copy\r\nh5debug\r\nh5diff\r\nh5dump\r\nh5import\r\nh5jam\r\nh5ls\r\nh5mkgrp\r\nh5perf_serial\r\nh5redeploy\r\nh5repack\r\nh5repart\r\nh5stat\r\nh5unjam\r\nidle3\r\nidle3.5\r\ninstance_events\r\nipython\r\nipython3\r\nisympy\r\njsonschema\r\njupyter\r\njupyter-console\r\njupyter-kernelspec\r\njupyter-migrate\r\njupyter-nbconvert\r\njupyter-nbextension\r\njupyter-notebook\r\njupyter-qtconsole\r\njupyter-serverextension\r\njupyter-trust\r\nkill_instance\r\nlaunch_instance\r\nlconvert-qt4\r\nlibdynd-config\r\nlibpng16-config\r\nlibpng-config\r\nlinguist-qt4\r\nlist_instances\r\nlrelease-qt4\r\nlss3\r\nlupdate-qt4\r\nmaven-artifact\r\nmoc-qt4\r\nmturk\r\nnbpresent\r\nnosetests\r\nnumba\r\nodo\r\nopenssl\r\npasteurize\r\npatchelf\r\npep8\r\npip\r\npixeltool-qt4\r\npngfix\r\npng-fix-itxt\r\npt2to3\r\nptdump\r\nptrepack\r\npttree\r\npyami_sendmail\r\npybabel\r\npycc\r\npydoc\r\npydoc3\r\npydoc3.5\r\npyflakes\r\npygmentize\r\npylupdate4\r\npyrcc4\r\npy.test\r\npython\r\npython3\r\npython3.5\r\npython3.5-config\r\npython3.5m\r\npython3.5m-config\r\npython3-config\r\npython-argcomplete-check-easy-install-script\r\npyuic4\r\npyvenv\r\npyvenv-3.5\r\nqcollectiongenerator-qt4\r\nqdbuscpp2xml-qt4\r\nqdbus-qt4\r\nqdbusviewer-qt4\r\nqdbusxml2cpp-qt4\r\nqdoc3-qt4\r\nqhelpconverter-qt4\r\nqhelpgenerator-qt4\r\nqmake-qt4\r\nqmlplugindump-qt4\r\nqmlviewer-qt4\r\nqt3to4-qt4\r\nqt.conf\r\nqtconfig-qt4\r\nqttracereplay-qt4\r\nrcc-qt4\r\nredis-benchmark\r\nredis-check-aof\r\nredis-check-rdb\r\nredis-cli\r\nredis-sentinel\r\nredis-server\r\nregister-python-argcomplete\r\nroute53\r\nrst2html.py\r\nrst2latex.py\r\nrst2man.py\r\nrst2odt_prepstyles.py\r\nrst2odt.py\r\nrst2pseudoxml.py\r\nrst2s5.py\r\nrst2xetex.py\r\nrst2xml.py\r\nrstpep2html.py\r\nrunxlrd.py\r\ns3put\r\nsamp_hub\r\nsdbadmin\r\nsip\r\nskivi\r\nsphinx-apidoc\r\nsphinx-autogen\r\nsphinx-build\r\nsphinx-quickstart\r\nspyder\r\nsqlite3\r\ntaskadmin\r\ntclsh8.5\r\ntest_libdynd\r\nuic-qt4\r\nunpickle.py\r\nunxz\r\nvba_extract.py\r\nvolint\r\nwcslint\r\nwheel\r\nwish8.5\r\nxml2-config\r\nxmlcatalog\r\nxmllint\r\nxmlpatterns-qt4\r\nxmlpatternsvalidator-qt4\r\nxslt-config\r\nxsltproc\r\nxz\r\n"
                }
            ], 
            "cell_type": "code"
        }, 
        {
            "execution_count": null, 
            "metadata": {
                "collapsed": true
            }, 
            "source": "", 
            "outputs": [], 
            "cell_type": "code"
        }
    ], 
    "nbformat_minor": 0
}