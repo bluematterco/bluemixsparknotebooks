{
 "cells": [
  {
   "cell_type": "code",
   "execution_count": 10,
   "metadata": {
    "collapsed": false
   },
   "outputs": [
    {
     "name": "stdout",
     "output_type": "stream",
     "text": [
      "Starting download from http://central.maven.org/maven2/org/twitter4j/twitter4j-core/4.0.4/twitter4j-core-4.0.4.jar\n",
      "Finished download of twitter4j-core-4.0.4.jar\n"
     ]
    }
   ],
   "source": [
    "%Addjar -f http://central.maven.org/maven2/org/twitter4j/twitter4j-core/4.0.4/twitter4j-core-4.0.4.jar"
   ]
  },
  {
   "cell_type": "code",
   "execution_count": 11,
   "metadata": {
    "collapsed": false
   },
   "outputs": [],
   "source": [
    "import twitter4j.TwitterFactory\n",
    "import twitter4j.Twitter\n",
    "import twitter4j.conf.ConfigurationBuilder\n",
    "import scala.collection.JavaConverters._"
   ]
  },
  {
   "cell_type": "code",
   "execution_count": 13,
   "metadata": {
    "collapsed": false
   },
   "outputs": [],
   "source": [
    "val cb = new ConfigurationBuilder()\n",
    "\n",
    "cb.\n",
    "setDebugEnabled(true).\n",
    "setOAuthConsumerKey(\"xxxxxxxxxxx\").\n",
    "setOAuthConsumerSecret(\"xxxxxxxxxxxxxx\").\n",
    "setOAuthAccessToken(\"xxxxxxxxxxxxx\").\n",
    "setOAuthAccessTokenSecret(\"xxxxxxxxxxxx\")\n",
    "\n",
    "val tf = new TwitterFactory(cb.build())\n",
    "val client = tf.getInstance"
   ]
  },
  {
   "cell_type": "code",
   "execution_count": 14,
   "metadata": {
    "collapsed": true
   },
   "outputs": [],
   "source": [
    "val tweets = client.search(new Query(\"#87thAcademyAwards\")).getTweets.asScala ++ client.search(new Query(\"#Oscars2016\")).getTweets.asScala"
   ]
  },
  {
   "cell_type": "code",
   "execution_count": 15,
   "metadata": {
    "collapsed": false
   },
   "outputs": [
    {
     "name": "stdout",
     "output_type": "stream",
     "text": [
      "RT @Oscars_Live: Here we go again! Best Actress goes to Julianne Moore for the film #StillAlice! #87thAcademyAwards #Oscars\n",
      "\n",
      "RT @Oscars_Live: And now the moment of truth! The 2015 Best Picture goes to #Birdman! #87thAcademyAwards #Oscars\n",
      "\n",
      "RT @Oscars_Live: Lady Gaga performing a tribute to the timeless film #SoundOfMusic! #87thAcademyAwards #Oscars\n",
      "\n",
      "RT @Oscars_Live: The amazing Julie Andrews on stage surprising Lady Gaga after her outstanding performance! #87thAcademyAwards #Oscars\n",
      "\n",
      "RT @Oscars_Live: Here we go! Best Actor goes to Eddie Redmayne for the film #TheTheoryofEverything! #87thAcademyAwards #Oscars\n",
      "\n",
      "RT @Oscars_Live: Here we go! Best Actor goes to Eddie Redmayne for the film #TheTheoryofEverything! #87thAcademyAwards #Oscars\n",
      "\n",
      "RT @Oscars_Live: Well folks, this concludes the #87thAcademyAwards! It has been a great year with great movies and actors! Have a safe nigh?\n",
      "\n",
      "RT @Oscars_Live: Best Original Screenplay goes to Birdman! #87thAcademyAwards #Oscars\n",
      "\n",
      "RT @Oscars_Live: Best Adapted Screenplay goes to The Imitation Game! #87thAcademyAwards #Oscars\n",
      "\n",
      "RT @Oscars_Live: Best Achievement in Directing goes to Alejandro G. Inarritu for the film #Birdman! #87thAcademyAwards #Oscars\n",
      "\n",
      "\"JULIANNE MOORE@Oscars_Live: Here we go again! Best Actress goes to Julianne Moore for the film #StillAlice! #87thAcademyAwards #Oscars\"\n",
      "\n",
      "Birdman\"@Oscars_Live: And now the moment of truth! The 2015 Best Picture goes to #Birdman! #87thAcademyAwards #Oscars\"\n",
      "\n",
      "RT @Oscars_Live: Well folks, this concludes the #87thAcademyAwards! It has been a great year with great movies and actors! Have a safe nigh?\n",
      "\n",
      "RT @Oscars_Live: Here we go! Best Actor goes to Eddie Redmayne for the film #TheTheoryofEverything! #87thAcademyAwards #Oscars\n",
      "\n",
      "RT @cinematheia: Give That Man a Nobel!!!\n",
      "#LeonardoDiCaprio #cinema #cinematheia #TheOscars2016 #AcademyAwards #87thAcademyAwards\n",
      "ww? https?\n",
      "\n",
      "RT @eddie1971nyc: Hi Leonardo DiCaprio you are a star. Do you like mine?\n",
      "\n",
      "#10DayTripToApartheidIsrael\n",
      "#Oscars2016 \n",
      "#BDS https://t.co/Z3mTdq?\n",
      "\n",
      "RT @eddie1971nyc: Will You TOUR The Apartheid Wall? Will You?\n",
      "\n",
      "#10DayTripToApartheidIsrael\n",
      "#Oscars2016 \n",
      "#BDS https://t.co/UpTmlDs4EI\n",
      "\n",
      "RT @rayyoosheh: #Oscars2016 say no 2 #10DayTripToApartheidIsrael bcz thy burn us our olive trees and our churchs #BDS https://t.co/qIywLt73?\n",
      "\n",
      "RT @eddie1971nyc: Will You TOUR The Apartheid Wall? Will You?\n",
      "\n",
      "#10DayTripToApartheidIsrael\n",
      "#Oscars2016 \n",
      "#BDS https://t.co/UpTmlDs4EI\n",
      "\n",
      "RT @MickiOnMovies: #Oscars2016 Supporting Actor noms all gave stellar performances but after seeing #CREED ? I think Stallone's Rocky Balbo?\n",
      "\n",
      "#Oscars2016 Supporting Actor noms all gave stellar performances but after seeing #CREED ? I think Stallone's Rocky Balboa will win the title\n",
      "\n",
      "RT @eddie1971nyc: Will you help us knock down the Apartheid Wall rather than TOUR?\n",
      "\n",
      "#10DayTripToApartheidIsrael\n",
      "#Oscars2016 \n",
      "#BDS https://t?\n",
      "\n",
      "RT @eddie1971nyc: Will you send us some .@Water Matt Damon \n",
      "\n",
      "#10DayTripToApartheidIsrael\n",
      "#Oscars2016 \n",
      "#BDS https://t.co/t6v3TpZzqz\n",
      "\n",
      "RT @eddie1971nyc: I wish you can tour #Gaza and find out how I was buried alive, RIP\n",
      "\n",
      "#10DayTripToApartheidIsrael\n",
      "#Oscars2016 \n",
      "#BDS https:/?\n",
      "\n",
      "RT @eddie1971nyc: Will you help us knock down the Apartheid Wall rather than TOUR?\n",
      "\n",
      "#10DayTripToApartheidIsrael\n",
      "#Oscars2016 \n",
      "#BDS https://t?\n",
      "\n",
      "RT @eddie1971nyc: Will You TOUR The Apartheid Wall? Will You?\n",
      "\n",
      "#10DayTripToApartheidIsrael\n",
      "#Oscars2016 \n",
      "#BDS https://t.co/UpTmlDs4EI\n",
      "\n",
      "What say ye Twitter? #Oscars2016 https://t.co/YB45H7Je0U\n",
      "\n",
      "RT @eddie1971nyc: I'm a Jew and #ICantBreathe Don't.... Come... To.... Isra......\n",
      "\n",
      "#10DayTripToApartheidIsrael\n",
      "#Oscars2016 \n",
      "#BDS https://t.?\n",
      "\n",
      "RT @eddie1971nyc: Nominees I'm a little school girl, will you turn a blind eye?\n",
      "\n",
      "#10DayTripToApartheidIsrael\n",
      "#Oscars2016 \n",
      "#BDS https://t.co?\n",
      "\n",
      "RT @eddie1971nyc: Whilst crying self-defense israel bombed 18,000 civilian homes #Gaza\n",
      "\n",
      "#10DayTripToApartheidIsrael\n",
      "#Oscars2016 \n",
      "#BDS https?\n",
      "\n"
     ]
    }
   ],
   "source": [
    "tweets.foreach(status => println(status.getText + \"\\n\"))"
   ]
  },
  {
   "cell_type": "code",
   "execution_count": null,
   "metadata": {
    "collapsed": true
   },
   "outputs": [],
   "source": []
  }
 ],
 "metadata": {
  "kernelspec": {
   "display_name": "Scala 2.10",
   "language": "scala",
   "name": "spark"
  },
  "language_info": {
   "name": "scala"
  }
 },
 "nbformat": 4,
 "nbformat_minor": 0
}
