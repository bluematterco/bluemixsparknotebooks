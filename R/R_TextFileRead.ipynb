{
    "cells": [
        {
            "cell_type": "markdown", 
            "source": "<h2> Reading Text File from Object Storage in R Kernel </h2>", 
            "metadata": {}
        }, 
        {
            "cell_type": "code", 
            "source": "#Change the OS credentials according to your OS Service. Fo ex. I did insert to credential for text file and it gave me below\n#all you have to do is replace 3rd cells' credentials with credentials_1 or drop a csv file and just do insert to code Spark Dataframe\n# then change filename to your .txt file", 
            "execution_count": null, 
            "outputs": [], 
            "metadata": {
                "collapsed": true
            }
        }, 
        {
            "cell_type": "code", 
            "source": "\n# @hidden_cell\ncredentials_1 <-list(auth_url = \"https://identity.open.softlayer.com\",project = \"object_storage_60df6da3_bdf2_49be_981f_ef45f54e6a1d\",project_id = \"dd5d007908f64380a321f3f5b801ab12\",region = \"dallas\",user_id = \"87888ef3d1ef4a0fabcb8f13c2d09b89\",domain_id = \"da5b6dd1c8374f67b1050172badbef8c\",domain_name = \"837523\",username = \"member_eef6c66e1824080755ed39cd770e24cc3795fd26\",password = \"XXXXXXXXX\",container = \"DSXS2Watson\",tenantId = \"undefined\",filename = \"students.txt\")\n", 
            "execution_count": null, 
            "outputs": [], 
            "metadata": {
                "collapsed": true
            }
        }, 
        {
            "cell_type": "code", 
            "source": "# This function accesses a file in your Object Storage. The definition contains your credentials.\n# You might want to remove those credentials before you share your notebook.\nsetHadoopConfigWithCredentials_60df6da3bdf249be981fef45f54e6a1d <- function(name) {\n    # This function sets the Hadoop configuration so it is possible to\n    # access data from Bluemix Object Storage V3 using Spark\n\n    prefix = paste(\"fs.swift.service\" , name, sep =\".\")\n    hConf = SparkR:::callJMethod(sc, \"hadoopConfiguration\")\n    SparkR:::callJMethod(hConf, \"set\", paste(prefix, \"auth.url\", sep='.'), paste(\"https://identity.open.softlayer.com\",\"/v3/auth/tokens\",sep=\"\"))\n    SparkR:::callJMethod(hConf, \"set\", paste(prefix, \"auth.endpoint.prefix\", sep='.'), \"endpoints\")\n    SparkR:::callJMethod(hConf, \"set\", paste(prefix, \"tenant\", sep='.'), \"dd5d007908f64380a321f3f5b801ab12\")\n    SparkR:::callJMethod(hConf, \"set\", paste(prefix, \"username\", sep='.'), \"87888ef3d1ef4a0fabcb8f13c2d09b89\")\n    SparkR:::callJMethod(hConf, \"set\", paste(prefix, \"password\", sep='.'), \"XXXXXXXXXXXX\")\n    SparkR:::callJMethod(hConf, \"set\", paste(prefix, \"region\", sep='.'), \"dallas\")\n    invisible(SparkR:::callJMethod(hConf, \"setBoolean\", paste(prefix, \"public\", sep='.'), TRUE))\n}\n\nname <- \"keystone\"\nsetHadoopConfigWithCredentials_60df6da3bdf249be981fef45f54e6a1d(name)", 
            "execution_count": 1, 
            "outputs": [], 
            "metadata": {
                "collapsed": false
            }
        }, 
        {
            "cell_type": "code", 
            "source": "filepath <- paste(\"swift://\", \"DSXS2Watson\", \".\" , name,\"/\", \"studentsgrade.txt\",sep=\"\")", 
            "execution_count": 2, 
            "outputs": [], 
            "metadata": {
                "collapsed": true
            }
        }, 
        {
            "cell_type": "code", 
            "source": "#Recommended way read the text file as csv and you get formatted stuff", 
            "execution_count": 3, 
            "outputs": [], 
            "metadata": {
                "collapsed": true
            }
        }, 
        {
            "cell_type": "code", 
            "source": "schema <- structType(structField(\"name\", \"string\"),\n                    structField(\"grade\", \"string\"))\ndf1 <- read.df(filepath,\"csv\", schema)", 
            "execution_count": 4, 
            "outputs": [], 
            "metadata": {
                "collapsed": false
            }
        }, 
        {
            "cell_type": "code", 
            "source": "head(df1)", 
            "execution_count": 5, 
            "outputs": [
                {
                    "output_type": "display_data", 
                    "metadata": {}, 
                    "data": {
                        "text/plain": "  name     grade\n1 charles  A    \n2 michael  B+   \n3 michelle C    \n4 Amy      A+   \n5 Donald   B+   \n6 Zoe      B    ", 
                        "text/latex": "\\begin{tabular}{r|ll}\n name & grade\\\\\n\\hline\n\t charles  & A       \\\\\n\t michael  & B+      \\\\\n\t michelle & C       \\\\\n\t Amy      & A+      \\\\\n\t Donald   & B+      \\\\\n\t Zoe      & B       \\\\\n\\end{tabular}\n", 
                        "text/html": "<table>\n<thead><tr><th scope=col>name</th><th scope=col>grade</th></tr></thead>\n<tbody>\n\t<tr><td>charles </td><td>A       </td></tr>\n\t<tr><td>michael </td><td>B+      </td></tr>\n\t<tr><td>michelle</td><td>C       </td></tr>\n\t<tr><td>Amy     </td><td>A+      </td></tr>\n\t<tr><td>Donald  </td><td>B+      </td></tr>\n\t<tr><td>Zoe     </td><td>B       </td></tr>\n</tbody>\n</table>\n"
                    }
                }
            ], 
            "metadata": {
                "collapsed": false
            }
        }, 
        {
            "cell_type": "code", 
            "source": "#You can read it as text file but the problem is the resultant dataframe will treat it as one column", 
            "execution_count": 6, 
            "outputs": [], 
            "metadata": {
                "collapsed": true
            }
        }, 
        {
            "cell_type": "code", 
            "source": "df2 <- read.text(filepath)", 
            "execution_count": 7, 
            "outputs": [], 
            "metadata": {
                "collapsed": true
            }
        }, 
        {
            "cell_type": "code", 
            "source": "head(df2)", 
            "execution_count": 8, 
            "outputs": [
                {
                    "output_type": "display_data", 
                    "metadata": {}, 
                    "data": {
                        "text/plain": "  value     \n1 charles,A \n2 michael,B+\n3 michelle,C\n4 Amy,A+    \n5 Donald,B+ \n6 Zoe,B     ", 
                        "text/latex": "\\begin{tabular}{r|l}\n value\\\\\n\\hline\n\t charles,A \\\\\n\t michael,B+\\\\\n\t michelle,C\\\\\n\t Amy,A+    \\\\\n\t Donald,B+ \\\\\n\t Zoe,B     \\\\\n\\end{tabular}\n", 
                        "text/html": "<table>\n<thead><tr><th scope=col>value</th></tr></thead>\n<tbody>\n\t<tr><td>charles,A </td></tr>\n\t<tr><td>michael,B+</td></tr>\n\t<tr><td>michelle,C</td></tr>\n\t<tr><td>Amy,A+    </td></tr>\n\t<tr><td>Donald,B+ </td></tr>\n\t<tr><td>Zoe,B     </td></tr>\n</tbody>\n</table>\n"
                    }
                }
            ], 
            "metadata": {
                "collapsed": false
            }
        }
    ], 
    "nbformat_minor": 0, 
    "nbformat": 4, 
    "metadata": {
        "kernelspec": {
            "language": "R", 
            "display_name": "R with Spark 2.0", 
            "name": "r-spark20"
        }, 
        "language_info": {
            "pygments_lexer": "r", 
            "mimetype": "text/x-r-source", 
            "name": "R", 
            "file_extension": ".r", 
            "version": "3.3.0", 
            "codemirror_mode": "r"
        }
    }
}