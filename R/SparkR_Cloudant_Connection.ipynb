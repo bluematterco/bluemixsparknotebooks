{
 "cells": [
  {
   "cell_type": "markdown",
   "metadata": {},
   "source": [
    "<h1>SparR Notebook to demonstrate connection to Cloudant database</h1>"
   ]
  },
  {
   "cell_type": "code",
   "execution_count": 64,
   "metadata": {
    "collapsed": true
   },
   "outputs": [],
   "source": [
    "#Since Cloudant Driver needs some parameters initialized in sparkcontext, we would need to stop it."
   ]
  },
  {
   "cell_type": "code",
   "execution_count": 65,
   "metadata": {
    "collapsed": true
   },
   "outputs": [],
   "source": [
    "sparkR.stop()"
   ]
  },
  {
   "cell_type": "code",
   "execution_count": 66,
   "metadata": {
    "collapsed": true
   },
   "outputs": [],
   "source": [
    "#Please change the below credentials according to your cloudant service."
   ]
  },
  {
   "cell_type": "code",
   "execution_count": 67,
   "metadata": {
    "collapsed": false
   },
   "outputs": [
    {
     "name": "stdout",
     "output_type": "stream",
     "text": [
      "Launching java with spark-submit command /usr/local/src/spark160master/spark/bin/spark-submit   sparkr-shell /gpfs/fs01/user/sf58-a0340cf1eaefe8-2c631c8ff999/notebook/tmp/RtmpVIxqRu/backend_portaa9a32aaab58 \n"
     ]
    }
   ],
   "source": [
    "sc <- sparkR.init(sparkEnv = list(\"cloudant.host\"=\"c8dca934-d2a4-4dcc-9123-2189ce9f5812-bluemix.cloudant.com\",\"cloudant.username\"=\"c8dca934-d2a4-4dcc-9123-2189ce9f5812-bluemix\",\"cloudant.password\"=\"XXXXXXXXXXXXXXXXXXXX\"))"
   ]
  },
  {
   "cell_type": "code",
   "execution_count": 68,
   "metadata": {
    "collapsed": true
   },
   "outputs": [],
   "source": [
    "#Please change below database name according to your database name"
   ]
  },
  {
   "cell_type": "code",
   "execution_count": 69,
   "metadata": {
    "collapsed": true
   },
   "outputs": [],
   "source": [
    "database <- \"sample\""
   ]
  },
  {
   "cell_type": "code",
   "execution_count": 70,
   "metadata": {
    "collapsed": true
   },
   "outputs": [],
   "source": [
    "#create sqlContext on the new sc you initialized"
   ]
  },
  {
   "cell_type": "code",
   "execution_count": 71,
   "metadata": {
    "collapsed": false
   },
   "outputs": [],
   "source": [
    "sqlContext <- sparkRSQL.init(sc)"
   ]
  },
  {
   "cell_type": "code",
   "execution_count": 72,
   "metadata": {
    "collapsed": false
   },
   "outputs": [],
   "source": [
    "people <- read.df(sqlContext, database, header='true', source = \"com.cloudant.spark\",inferSchema='true')"
   ]
  },
  {
   "cell_type": "code",
   "execution_count": 73,
   "metadata": {
    "collapsed": false
   },
   "outputs": [
    {
     "data": {
      "text/html": [
       "<table>\n",
       "<thead><tr><th></th><th scope=col>Age</th><th scope=col>_id</th><th scope=col>_rev</th><th scope=col>name</th></tr></thead>\n",
       "<tbody>\n",
       "\t<tr><th scope=row>1</th><td>28                                </td><td>0ddb166731899e3f24f6087d2c69b782  </td><td>1-5f3f4cb97a3f58f0ba5b0c87f790eb7a</td><td>charles                           </td></tr>\n",
       "\t<tr><th scope=row>2</th><td>1                                 </td><td>3ac7ad822808dfd859e7ef8f7ea4f25d  </td><td>1-fe87dd5920fedbc26ddba758c9a144c3</td><td>chloe                             </td></tr>\n",
       "</tbody>\n",
       "</table>\n"
      ],
      "text/latex": [
       "\\begin{tabular}{r|llll}\n",
       "  & Age & \\_id & \\_rev & name\\\\\n",
       "\\hline\n",
       "\t1 & 28                                 & 0ddb166731899e3f24f6087d2c69b782   & 1-5f3f4cb97a3f58f0ba5b0c87f790eb7a & charles                           \\\\\n",
       "\t2 & 1                                  & 3ac7ad822808dfd859e7ef8f7ea4f25d   & 1-fe87dd5920fedbc26ddba758c9a144c3 & chloe                             \\\\\n",
       "\\end{tabular}\n"
      ],
      "text/plain": [
       "  Age _id                              _rev                              \n",
       "1 28  0ddb166731899e3f24f6087d2c69b782 1-5f3f4cb97a3f58f0ba5b0c87f790eb7a\n",
       "2 1   3ac7ad822808dfd859e7ef8f7ea4f25d 1-fe87dd5920fedbc26ddba758c9a144c3\n",
       "  name   \n",
       "1 charles\n",
       "2 chloe  "
      ]
     },
     "execution_count": 73,
     "metadata": {},
     "output_type": "execute_result"
    }
   ],
   "source": [
    "head(people)"
   ]
  }
 ],
 "metadata": {
  "kernelspec": {
   "display_name": "R - Tech Preview",
   "language": "R",
   "name": "r"
  },
  "language_info": {
   "codemirror_mode": "r",
   "file_extension": ".r",
   "mimetype": "text/x-r-source",
   "name": "R",
   "pygments_lexer": "r",
   "version": "3.2.2"
  }
 },
 "nbformat": 4,
 "nbformat_minor": 0
}