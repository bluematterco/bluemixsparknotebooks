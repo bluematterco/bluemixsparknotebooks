{
 "cells": [
  {
   "cell_type": "code",
   "execution_count": 7,
   "metadata": {
    "collapsed": true
   },
   "outputs": [],
   "source": [
    "sqlContext <- sparkRSQL.init(sc)"
   ]
  },
  {
   "cell_type": "code",
   "execution_count": 8,
   "metadata": {
    "collapsed": true
   },
   "outputs": [],
   "source": [
    "people <- read.df(sqlContext, \"swift://notebooks.spark/Sacramentorealestatetransactions.csv\", \"csv\")"
   ]
  },
  {
   "cell_type": "code",
   "execution_count": 9,
   "metadata": {
    "collapsed": false
   },
   "outputs": [
    {
     "data": {
      "text/html": [
       "<table>\n",
       "<thead><tr><th></th><th scope=col>C0</th><th scope=col>C1</th><th scope=col>C2</th><th scope=col>C3</th><th scope=col>C4</th><th scope=col>C5</th><th scope=col>C6</th><th scope=col>C7</th><th scope=col>C8</th><th scope=col>C9</th><th scope=col>C10</th><th scope=col>C11</th></tr></thead>\n",
       "<tbody>\n",
       "\t<tr><th scope=row>1</th><td>street                      </td><td>city                        </td><td>zip                         </td><td>state                       </td><td>beds                        </td><td>baths                       </td><td>sq__ft                      </td><td>type                        </td><td>sale_date                   </td><td>price                       </td><td>latitude                    </td><td>longitude                   </td></tr>\n",
       "\t<tr><th scope=row>2</th><td>3526 HIGH ST                </td><td>SACRAMENTO                  </td><td>95838                       </td><td>CA                          </td><td>2                           </td><td>1                           </td><td>836                         </td><td>Residential                 </td><td>Wed May 21 00:00:00 EDT 2008</td><td>59222                       </td><td>38.631913                   </td><td>-121.434879                 </td></tr>\n",
       "\t<tr><th scope=row>3</th><td>51 OMAHA CT                 </td><td>SACRAMENTO                  </td><td>95823                       </td><td>CA                          </td><td>3                           </td><td>1                           </td><td>1167                        </td><td>Residential                 </td><td>Wed May 21 00:00:00 EDT 2008</td><td>68212                       </td><td>38.478902                   </td><td>-121.431028                 </td></tr>\n",
       "\t<tr><th scope=row>4</th><td>2796 BRANCH ST              </td><td>SACRAMENTO                  </td><td>95815                       </td><td>CA                          </td><td>2                           </td><td>1                           </td><td>796                         </td><td>Residential                 </td><td>Wed May 21 00:00:00 EDT 2008</td><td>68880                       </td><td>38.618305                   </td><td>-121.443839                 </td></tr>\n",
       "\t<tr><th scope=row>5</th><td>2805 JANETTE WAY            </td><td>SACRAMENTO                  </td><td>95815                       </td><td>CA                          </td><td>2                           </td><td>1                           </td><td>852                         </td><td>Residential                 </td><td>Wed May 21 00:00:00 EDT 2008</td><td>69307                       </td><td>38.616835                   </td><td>-121.439146                 </td></tr>\n",
       "\t<tr><th scope=row>6</th><td>6001 MCMAHON DR             </td><td>SACRAMENTO                  </td><td>95824                       </td><td>CA                          </td><td>2                           </td><td>1                           </td><td>797                         </td><td>Residential                 </td><td>Wed May 21 00:00:00 EDT 2008</td><td>81900                       </td><td>38.51947                    </td><td>-121.435768                 </td></tr>\n",
       "</tbody>\n",
       "</table>\n"
      ],
      "text/latex": [
       "\\begin{tabular}{r|llllllllllll}\n",
       "  & C0 & C1 & C2 & C3 & C4 & C5 & C6 & C7 & C8 & C9 & C10 & C11\\\\\n",
       "\\hline\n",
       "\t1 & street                         & city                           & zip                            & state                          & beds                           & baths                          & sq\\_\\_ft                     & type                           & sale\\_date                    & price                          & latitude                       & longitude                     \\\\\n",
       "\t2 & 3526 HIGH ST                 & SACRAMENTO                   & 95838                        & CA                           & 2                            & 1                            & 836                          & Residential                  & Wed May 21 00:00:00 EDT 2008 & 59222                        & 38.631913                    & -121.434879                 \\\\\n",
       "\t3 & 51 OMAHA CT                  & SACRAMENTO                   & 95823                        & CA                           & 3                            & 1                            & 1167                         & Residential                  & Wed May 21 00:00:00 EDT 2008 & 68212                        & 38.478902                    & -121.431028                 \\\\\n",
       "\t4 & 2796 BRANCH ST               & SACRAMENTO                   & 95815                        & CA                           & 2                            & 1                            & 796                          & Residential                  & Wed May 21 00:00:00 EDT 2008 & 68880                        & 38.618305                    & -121.443839                 \\\\\n",
       "\t5 & 2805 JANETTE WAY             & SACRAMENTO                   & 95815                        & CA                           & 2                            & 1                            & 852                          & Residential                  & Wed May 21 00:00:00 EDT 2008 & 69307                        & 38.616835                    & -121.439146                 \\\\\n",
       "\t6 & 6001 MCMAHON DR              & SACRAMENTO                   & 95824                        & CA                           & 2                            & 1                            & 797                          & Residential                  & Wed May 21 00:00:00 EDT 2008 & 81900                        & 38.51947                     & -121.435768                 \\\\\n",
       "\\end{tabular}\n"
      ],
      "text/plain": [
       "  C0               C1         C2    C3    C4   C5    C6     C7         \n",
       "1 street           city       zip   state beds baths sq__ft type       \n",
       "2 3526 HIGH ST     SACRAMENTO 95838 CA    2    1     836    Residential\n",
       "3 51 OMAHA CT      SACRAMENTO 95823 CA    3    1     1167   Residential\n",
       "4 2796 BRANCH ST   SACRAMENTO 95815 CA    2    1     796    Residential\n",
       "5 2805 JANETTE WAY SACRAMENTO 95815 CA    2    1     852    Residential\n",
       "6 6001 MCMAHON DR  SACRAMENTO 95824 CA    2    1     797    Residential\n",
       "  C8                           C9    C10       C11        \n",
       "1 sale_date                    price latitude  longitude  \n",
       "2 Wed May 21 00:00:00 EDT 2008 59222 38.631913 -121.434879\n",
       "3 Wed May 21 00:00:00 EDT 2008 68212 38.478902 -121.431028\n",
       "4 Wed May 21 00:00:00 EDT 2008 68880 38.618305 -121.443839\n",
       "5 Wed May 21 00:00:00 EDT 2008 69307 38.616835 -121.439146\n",
       "6 Wed May 21 00:00:00 EDT 2008 81900 38.51947  -121.435768"
      ]
     },
     "execution_count": 9,
     "metadata": {},
     "output_type": "execute_result"
    }
   ],
   "source": [
    "head(people)"
   ]
  }
 ],
 "metadata": {
  "kernelspec": {
   "display_name": "R - Tech Preview",
   "language": "R",
   "name": "r"
  },
  "language_info": {
   "codemirror_mode": "r",
   "file_extension": ".r",
   "mimetype": "text/x-r-source",
   "name": "R",
   "pygments_lexer": "r",
   "version": "3.2.2"
  }
 },
 "nbformat": 4,
 "nbformat_minor": 0
}