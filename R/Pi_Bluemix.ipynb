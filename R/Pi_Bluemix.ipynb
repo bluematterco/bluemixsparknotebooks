{
 "cells": [
  {
   "cell_type": "code",
   "execution_count": 1,
   "metadata": {
    "collapsed": false
   },
   "outputs": [],
   "source": [
    "library(SparkR)"
   ]
  },
  {
   "cell_type": "code",
   "execution_count": 2,
   "metadata": {
    "collapsed": true
   },
   "outputs": [],
   "source": [
    "#Uncomment below if you are going to use spark-submit...this may be needed later when supported\n",
    "# sc <- sparkR.init()"
   ]
  },
  {
   "cell_type": "code",
   "execution_count": 3,
   "metadata": {
    "collapsed": true
   },
   "outputs": [],
   "source": [
    "slices <- as.integer(10)"
   ]
  },
  {
   "cell_type": "code",
   "execution_count": 4,
   "metadata": {
    "collapsed": false
   },
   "outputs": [],
   "source": [
    "n <- 100000 * slices"
   ]
  },
  {
   "cell_type": "code",
   "execution_count": 5,
   "metadata": {
    "collapsed": true
   },
   "outputs": [],
   "source": [
    "\n",
    "piFunc <- function(elem) {\n",
    "  rands <- runif(n = 2, min = -1, max = 1)\n",
    "  val <- ifelse((rands[1]^2 + rands[2]^2) < 1, 1.0, 0.0)\n",
    "  val\n",
    "}\n",
    "\n",
    "\n",
    "piFuncVec <- function(elems) {\n",
    "  message(length(elems))\n",
    "  rands1 <- runif(n = length(elems), min = -1, max = 1)\n",
    "  rands2 <- runif(n = length(elems), min = -1, max = 1)\n",
    "  val <- ifelse((rands1^2 + rands2^2) < 1, 1.0, 0.0)\n",
    "  sum(val)\n",
    "}"
   ]
  },
  {
   "cell_type": "code",
   "execution_count": 6,
   "metadata": {
    "collapsed": true
   },
   "outputs": [],
   "source": [
    "#create RDD\n",
    "rdd <- SparkR:::parallelize(sc, 1:n, slices)"
   ]
  },
  {
   "cell_type": "code",
   "execution_count": 7,
   "metadata": {
    "collapsed": false
   },
   "outputs": [
    {
     "name": "stdout",
     "output_type": "stream",
     "text": [
      "Pi is roughly 3.141688 \n",
      "Num elements in RDD  1000000 \n"
     ]
    }
   ],
   "source": [
    "# Count the Pi Value and Print it\n",
    "count <- SparkR:::reduce(SparkR:::lapplyPartition(rdd, piFuncVec), sum)\n",
    "cat(\"Pi is roughly\", 4.0 * count / n, \"\\n\")\n",
    "cat(\"Num elements in RDD \", count(rdd), \"\\n\")"
   ]
  }
 ],
 "metadata": {
  "kernelspec": {
   "display_name": "R - Tech Preview",
   "language": "R",
   "name": "r"
  },
  "language_info": {
   "codemirror_mode": "r",
   "file_extension": ".r",
   "mimetype": "text/x-r-source",
   "name": "R",
   "pygments_lexer": "r",
   "version": "3.2.2"
  }
 },
 "nbformat": 4,
 "nbformat_minor": 0
}