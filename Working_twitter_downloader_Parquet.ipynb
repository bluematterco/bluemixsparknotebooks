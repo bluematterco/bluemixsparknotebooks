{
 "cells": [
  {
   "cell_type": "code",
   "execution_count": 1,
   "metadata": {
    "collapsed": false,
    "scrolled": false
   },
   "outputs": [
    {
     "name": "stdout",
     "output_type": "stream",
     "text": [
      "Starting download from http://central.maven.org/maven2/org/twitter4j/twitter4j-core/4.0.4/twitter4j-core-4.0.4.jar\n",
      "Finished download of twitter4j-core-4.0.4.jar\n"
     ]
    }
   ],
   "source": [
    "%Addjar http://central.maven.org/maven2/org/twitter4j/twitter4j-core/4.0.4/twitter4j-core-4.0.4.jar"
   ]
  },
  {
   "cell_type": "code",
   "execution_count": 2,
   "metadata": {
    "collapsed": false
   },
   "outputs": [
    {
     "name": "stdout",
     "output_type": "stream",
     "text": [
      "Starting download from https://github.com/ibm-cds-labs/spark.samples/raw/master/dist/streaming-twitter-assembly-1.4.jar\n",
      "Finished download of streaming-twitter-assembly-1.4.jar\n"
     ]
    }
   ],
   "source": [
    "%Addjar https://github.com/ibm-cds-labs/spark.samples/raw/master/dist/streaming-twitter-assembly-1.4.jar"
   ]
  },
  {
   "cell_type": "code",
   "execution_count": 3,
   "metadata": {
    "collapsed": false
   },
   "outputs": [],
   "source": [
    "import twitter4j.TwitterFactory\n",
    "import twitter4j.Twitter\n",
    "import twitter4j.conf.ConfigurationBuilder\n",
    "import scala.collection.JavaConverters._\n",
    "import twitter4j.Query"
   ]
  },
  {
   "cell_type": "code",
   "execution_count": 4,
   "metadata": {
    "collapsed": false
   },
   "outputs": [],
   "source": [
    "val cb = new ConfigurationBuilder()\n",
    "\n",
    "cb.\n",
    "setDebugEnabled(true).\n",
    "setOAuthConsumerKey(\"xxxxx\").\n",
    "setOAuthConsumerSecret(\"xxxxxxxx\").\n",
    "setOAuthAccessToken(\"xxxxxxxx\").\n",
    "setOAuthAccessTokenSecret(\"xxxxxxxx\")\n",
    "\n",
    "val tf = new TwitterFactory(cb.build())\n",
    "val client = tf.getInstance"
   ]
  },
  {
   "cell_type": "code",
   "execution_count": 8,
   "metadata": {
    "collapsed": false
   },
   "outputs": [],
   "source": [
    "val query = new Query(\"#Oscars2016\")\n",
    "query.setCount(500)\n",
    "query.setSince(\"2015-02-09\")\n",
    "\n",
    "var searchResultCount = 0\n",
    "var lowestTweetId = java.lang.Long.MAX_VALUE\n",
    "var totaltweets = scala.collection.mutable.Buffer.empty[twitter4j.Status]"
   ]
  },
  {
   "cell_type": "code",
   "execution_count": 11,
   "metadata": {
    "collapsed": false,
    "scrolled": false
   },
   "outputs": [],
   "source": [
    "do {\n",
    "    var queryResult = client.search(query)\n",
    "\n",
    "    searchResultCount = queryResult.getTweets.size\n",
    "       for (tweet <- queryResult.getTweets.asScala) {\n",
    "         totaltweets = totaltweets ++ queryResult.getTweets.asScala\n",
    "\n",
    "        if (tweet.getId < lowestTweetId) {\n",
    "            lowestTweetId = tweet.getId\n",
    "            query.setMaxId(lowestTweetId)\n",
    "        }\n",
    "    }\n",
    "\n",
    "} while (searchResultCount != 0 && searchResultCount % 100 == 0)"
   ]
  },
  {
   "cell_type": "code",
   "execution_count": 31,
   "metadata": {
    "collapsed": false
   },
   "outputs": [],
   "source": [
    "import java.io._\n",
    "import collection.JavaConversions._\n",
    "val w = new BufferedWriter(new FileWriter(\"TweetsFeb14\"))\n",
    "totaltweets.foreach(twt => w.write(twt.getText))\n",
    "w.close()"
   ]
  },
  {
   "cell_type": "code",
   "execution_count": 12,
   "metadata": {
    "collapsed": false
   },
   "outputs": [
    {
     "data": {
      "text/plain": [
       "3218"
      ]
     },
     "execution_count": 12,
     "metadata": {},
     "output_type": "execute_result"
    }
   ],
   "source": [
    "totaltweets.size"
   ]
  },
  {
   "cell_type": "code",
   "execution_count": 13,
   "metadata": {
    "collapsed": false
   },
   "outputs": [],
   "source": [
    "import org.apache.spark.sql.SQLContext\n",
    "import org.apache.spark.sql.types._\n",
    "import com.ibm.cds.spark.samples._\n",
    "import org.apache.spark.sql.Row"
   ]
  },
  {
   "cell_type": "code",
   "execution_count": 14,
   "metadata": {
    "collapsed": true
   },
   "outputs": [],
   "source": [
    "import com.google.common.base.CharMatcher"
   ]
  },
  {
   "cell_type": "code",
   "execution_count": 15,
   "metadata": {
    "collapsed": false
   },
   "outputs": [],
   "source": [
    " val sqlContext = new SQLContext(sc)\n",
    " var schemaTweets : StructType = null\n",
    "  if ( schemaTweets == null ){\n",
    "    val schemaString = \"author date lang text lat:double long:double\"\n",
    "    schemaTweets =\n",
    "      StructType(\n",
    "        schemaString.split(\" \").map(\n",
    "          fieldName => {\n",
    "            val ar = fieldName.split(\":\")\n",
    "            StructField(\n",
    "                ar.lift(0).get, \n",
    "                ar.lift(1).getOrElse(\"string\") match{\n",
    "                  case \"int\" => IntegerType\n",
    "                  case \"double\" => DoubleType\n",
    "                  case _ => StringType\n",
    "                },\n",
    "                true)\n",
    "          }\n",
    "        ).union( \n",
    "            ToneAnalyzer.sentimentFactors.map( f => StructField( f._1, DoubleType )).toArray[StructField]\n",
    "        )\n",
    "      )\n",
    "  }"
   ]
  },
  {
   "cell_type": "code",
   "execution_count": 16,
   "metadata": {
    "collapsed": true
   },
   "outputs": [],
   "source": [
    "import com.ibm.cds.spark.samples.config.DemoConfig\n",
    "import org.http4s.client.blaze.PooledHttp1Client\n",
    "import org.apache.spark.sql.Row"
   ]
  },
  {
   "cell_type": "code",
   "execution_count": 17,
   "metadata": {
    "collapsed": false
   },
   "outputs": [],
   "source": [
    "val config1 = new DemoConfig\n",
    "val keys = config1.getConfig(\"tweets.key\").split(\",\");\n",
    " //Tone Analyzer service credential copied from section above\n",
    "    config1.setConfig(\"watson.tone.url\",\"https://gateway.watsonplatform.net/tone-analyzer-experimental/api\")\n",
    "    config1.setConfig(\"watson.tone.password\",\"xxxxxx\")\n",
    "    config1.setConfig(\"watson.tone.username\",\"xxxxxxx\")\n"
   ]
  },
  {
   "cell_type": "code",
   "execution_count": 18,
   "metadata": {
    "collapsed": false
   },
   "outputs": [],
   "source": [
    "  val broadcastVar = sc.broadcast(config1.toImmutableMap)"
   ]
  },
  {
   "cell_type": "code",
   "execution_count": 19,
   "metadata": {
    "collapsed": false
   },
   "outputs": [],
   "source": [
    "  val tweets = totaltweets.filter { status => \n",
    "    Option(status.getUser).flatMap[String] { \n",
    "      u => Option(u.getLang) \n",
    "    }.getOrElse(\"\").startsWith(\"en\") && CharMatcher.ASCII.matchesAllOf(status.getText) && ( keys.isEmpty || keys.exists{status.getText.contains(_)})\n",
    "  }"
   ]
  },
  {
   "cell_type": "code",
   "execution_count": 20,
   "metadata": {
    "collapsed": true
   },
   "outputs": [],
   "source": [
    "import scala.collection.mutable._"
   ]
  },
  {
   "cell_type": "code",
   "execution_count": 21,
   "metadata": {
    "collapsed": false
   },
   "outputs": [],
   "source": [
    "   val rowTweets = tweets.map(status=> {\n",
    "    lazy val client = PooledHttp1Client()\n",
    "    val sentiment = ToneAnalyzer.computeSentiment( client, status, broadcastVar )\n",
    "\n",
    "    var colValues = Array[Any](\n",
    "      status.getUser.getName, //author\n",
    "      status.getCreatedAt.toString,   //date\n",
    "      status.getUser.getLang,  //Lang\n",
    "      status.getText,               //text\n",
    "      Option(status.getGeoLocation).map{ _.getLatitude}.getOrElse(0.0),      //lat\n",
    "      Option(status.getGeoLocation).map{_.getLongitude}.getOrElse(0.0)    //long\n",
    "      //exception\n",
    "    )\n",
    "\n",
    "    var scoreMap : Map[String, Double] = Map()\n",
    "    if ( sentiment != null ){\n",
    "      for ( tone <- Option( sentiment.children ).getOrElse( Seq() ) ){\n",
    "        for ( result <- Option( tone.children ).getOrElse( Seq() ) ){\n",
    "          scoreMap.put( result.id, result.normalized_score )\n",
    "        }\n",
    "      }\n",
    "    }\n",
    "\n",
    "    colValues = colValues ++ ToneAnalyzer.sentimentFactors.map { f => (BigDecimal(scoreMap.get(f._2).getOrElse(0.0)).setScale(2, BigDecimal.RoundingMode.HALF_UP).toDouble) * 100.0  }\n",
    "    //Return [Row, (sentiment, status)]\n",
    "    (Row(colValues.toArray:_*),(sentiment, status))\n",
    "  })"
   ]
  },
  {
   "cell_type": "code",
   "execution_count": 22,
   "metadata": {
    "collapsed": true
   },
   "outputs": [],
   "source": [
    "val tweetsrdd = rowTweets.grouped(10).map(s => sc.parallelize(s))"
   ]
  },
  {
   "cell_type": "code",
   "execution_count": 23,
   "metadata": {
    "collapsed": false
   },
   "outputs": [],
   "source": [
    "var firstelement = tweetsrdd.toList(0).map(t=>t._1)"
   ]
  },
  {
   "cell_type": "code",
   "execution_count": null,
   "metadata": {
    "collapsed": false
   },
   "outputs": [],
   "source": [
    "var workingRDD = sc.parallelize(firstelement.collect())"
   ]
  },
  {
   "cell_type": "code",
   "execution_count": 21,
   "metadata": {
    "collapsed": false
   },
   "outputs": [],
   "source": [
    "tweetsrdd.foreach{rdd => {\n",
    "        try{                                                                                                                                                                                                                                                                                                                                                                                                                                                                                                                                                                                                                                                                                                                                                                                                                                                                                                                                                                                                                                                                                                                                                                                                                                                                                                                                                                                                                                                                                                                                                                                                                                                                                                                                                                                                                                                                                                                                                                                                                                                                                                                                                                                                                                                                                                                                                                                                                                                                                                                                                                                                                                                                                                                                                                                                                                                                                    \n",
    "              workingRDD = sc.parallelize( rdd.map( t => t._1 ).collect()).union(workingRDD)  \n",
    "\n",
    "        }catch{\n",
    "            case e: Exception => e.printStackTrace()\n",
    "        }\n",
    "}}"
   ]
  },
  {
   "cell_type": "code",
   "execution_count": 22,
   "metadata": {
    "collapsed": false
   },
   "outputs": [
    {
     "name": "stdout",
     "output_type": "stream",
     "text": [
      "A new table named tweets with 10 records has been correctly created and can be accessed through the SQLContext variable\n",
      "Here's the schema for tweets\n",
      "root\n",
      " |-- author: string (nullable = true)\n",
      " |-- date: string (nullable = true)\n",
      " |-- lang: string (nullable = true)\n",
      " |-- text: string (nullable = true)\n",
      " |-- lat: double (nullable = true)\n",
      " |-- long: double (nullable = true)\n",
      " |-- Cheerfulness: double (nullable = true)\n",
      " |-- Negative: double (nullable = true)\n",
      " |-- Anger: double (nullable = true)\n",
      " |-- Analytical: double (nullable = true)\n",
      " |-- Confident: double (nullable = true)\n",
      " |-- Tentative: double (nullable = true)\n",
      " |-- Openness: double (nullable = true)\n",
      " |-- Agreeableness: double (nullable = true)\n",
      " |-- Conscientiousness: double (nullable = true)\n"
     ]
    }
   ],
   "source": [
    "if ( workingRDD.count <= 0 ){\n",
    "      println(\"No data receive. Please start the Twitter stream again to collect data\")\n",
    "    }\n",
    "    \n",
    "    try{\n",
    "      val df = sqlContext.createDataFrame( workingRDD, schemaTweets )\n",
    "      df.registerTempTable(\"tweets\")\n",
    "      \n",
    "      println(\"A new table named tweets with \" + df.count() + \" records has been correctly created and can be accessed through the SQLContext variable\")\n",
    "      println(\"Here's the schema for tweets\")\n",
    "      df.printSchema()\n",
    "      \n",
    "    }catch{\n",
    "      case e: Exception => {e.printStackTrace();}\n",
    "    }"
   ]
  },
  {
   "cell_type": "code",
   "execution_count": 23,
   "metadata": {
    "collapsed": true
   },
   "outputs": [],
   "source": [
    "val fullSet = sqlContext.sql(\"select * from tweets\")"
   ]
  },
  {
   "cell_type": "code",
   "execution_count": 24,
   "metadata": {
    "collapsed": false
   },
   "outputs": [
    {
     "name": "stdout",
     "output_type": "stream",
     "text": [
      "+--------------------+--------------------+----+--------------------+---+----+------------+--------+-----+----------+---------+---------+-----------------+-------------+-----------------+\n",
      "|              author|                date|lang|                text|lat|long|Cheerfulness|Negative|Anger|Analytical|Confident|Tentative|         Openness|Agreeableness|Conscientiousness|\n",
      "+--------------------+--------------------+----+--------------------+---+----+------------+--------+-----+----------+---------+---------+-----------------+-------------+-----------------+\n",
      "|          Oscar Pitt|Mon Feb 15 12:13:...|  en|RT @cinemasTV: #M...|0.0| 0.0|         0.0|     0.0|  0.0|       0.0|      0.0|      0.0|             97.0|          0.0|             68.0|\n",
      "|          Oscar Pitt|Mon Feb 15 12:13:...|  en|RT @MadeInMilan_0...|0.0| 0.0|        97.0|     0.0|  0.0|       0.0|      0.0|     85.0|             48.0|         50.0|            100.0|\n",
      "|          Oscar Pitt|Mon Feb 15 12:13:...|  en|RT @guaubc: https...|0.0| 0.0|         0.0|     0.0|  0.0|       0.0|      0.0|      0.0|             97.0|          0.0|             68.0|\n",
      "|   David`s D is 2B??|Mon Feb 15 12:12:...|  en|RT @XOPodcast: Th...|0.0| 0.0|         0.0|     0.0|  0.0|     100.0|      0.0|      0.0|             34.0|          1.0|7.000000000000001|\n",
      "|  Katia Camacho Vega|Mon Feb 15 12:08:...|  en|RT @muktanpi: 88t...|0.0| 0.0|       100.0|     0.0|  0.0|       0.0|      0.0|      0.0|              4.0|         85.0|            100.0|\n",
      "|    Melissa Caldwell|Mon Feb 15 12:06:...|  en|RT @SSNInsider: H...|0.0| 0.0|         0.0|     0.0|  0.0|       0.0|      0.0|      0.0|              0.0|         99.0|              0.0|\n",
      "|  VITRIS EYEWEAR USA|Mon Feb 15 12:03:...|  en|@voguemagazine Me...|0.0| 0.0|         0.0|     0.0|  0.0|       0.0|      0.0|      0.0|             77.0|         46.0|             36.0|\n",
      "|        brenno silva|Mon Feb 15 12:03:...|  en|RT @muktanpi: Osc...|0.0| 0.0|         0.0|     0.0|  0.0|       0.0|      0.0|      0.0|7.000000000000001|         36.0|             68.0|\n",
      "|Midwest Movie Maven?|Mon Feb 15 12:02:...|  en|@Variety what of ...|0.0| 0.0|         0.0|     0.0|  0.0|       0.0|      0.0|      0.0|            100.0|          0.0|             36.0|\n",
      "|                AMMY|Mon Feb 15 12:02:...|  en|https://t.co/2mbI...|0.0| 0.0|         0.0|     0.0|  0.0|       0.0|      0.0|      0.0|             97.0|          0.0|             68.0|\n",
      "+--------------------+--------------------+----+--------------------+---+----+------------+--------+-----+----------+---------+---------+-----------------+-------------+-----------------+\n",
      "\n"
     ]
    }
   ],
   "source": [
    "fullSet.show"
   ]
  },
  {
   "cell_type": "code",
   "execution_count": null,
   "metadata": {
    "collapsed": true
   },
   "outputs": [],
   "source": []
  }
 ],
 "metadata": {
  "kernelspec": {
   "display_name": "Scala 2.10",
   "language": "scala",
   "name": "spark"
  },
  "language_info": {
   "name": "scala"
  }
 },
 "nbformat": 4,
 "nbformat_minor": 0
}