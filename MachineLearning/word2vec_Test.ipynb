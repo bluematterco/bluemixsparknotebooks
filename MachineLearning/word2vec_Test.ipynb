{
    "nbformat": 4, 
    "nbformat_minor": 0, 
    "cells": [
        {
            "execution_count": 1, 
            "metadata": {
                "collapsed": true
            }, 
            "outputs": [], 
            "cell_type": "code", 
            "source": "sent = (\"a b \" * 100 + \"a c \" * 10).split(\" \")"
        }, 
        {
            "execution_count": 3, 
            "metadata": {
                "collapsed": false
            }, 
            "outputs": [], 
            "cell_type": "code", 
            "source": "doc = spark.createDataFrame([(sent,), (sent,)], [\"sentence\"])"
        }, 
        {
            "execution_count": 5, 
            "metadata": {
                "collapsed": true
            }, 
            "outputs": [], 
            "cell_type": "code", 
            "source": "from pyspark.ml.feature import Word2Vec"
        }, 
        {
            "execution_count": 6, 
            "metadata": {
                "collapsed": false
            }, 
            "outputs": [], 
            "cell_type": "code", 
            "source": "word2Vec = Word2Vec(vectorSize=5, seed=42, inputCol=\"sentence\", outputCol=\"model\")"
        }, 
        {
            "execution_count": 7, 
            "metadata": {
                "collapsed": true
            }, 
            "outputs": [], 
            "cell_type": "code", 
            "source": "model = word2Vec.fit(doc)"
        }, 
        {
            "execution_count": 8, 
            "metadata": {
                "collapsed": false
            }, 
            "outputs": [
                {
                    "text": "+----+--------------------+\n|word|              vector|\n+----+--------------------+\n|   a|[0.09461779892444...|\n|   b|[1.15474212169647...|\n|   c|[-0.3794820010662...|\n+----+--------------------+\n\n", 
                    "name": "stdout", 
                    "output_type": "stream"
                }
            ], 
            "cell_type": "code", 
            "source": "model.getVectors().show()"
        }, 
        {
            "execution_count": 9, 
            "metadata": {
                "collapsed": true
            }, 
            "outputs": [], 
            "cell_type": "code", 
            "source": "from pyspark.sql.functions import format_number as fmt"
        }, 
        {
            "execution_count": 10, 
            "metadata": {
                "collapsed": false
            }, 
            "outputs": [
                {
                    "text": "+----+----------+\n|word|similarity|\n+----+----------+\n|   b|   0.25053|\n|   c|  -0.69805|\n+----+----------+\n\n", 
                    "name": "stdout", 
                    "output_type": "stream"
                }
            ], 
            "cell_type": "code", 
            "source": "model.findSynonyms(\"a\", 2).select(\"word\", fmt(\"similarity\", 5).alias(\"similarity\")).show()"
        }, 
        {
            "execution_count": 11, 
            "metadata": {
                "collapsed": false
            }, 
            "outputs": [
                {
                    "data": {
                        "text/plain": "DenseVector([0.5524, -0.4995, -0.3599, 0.0241, 0.3461])"
                    }, 
                    "execution_count": 11, 
                    "output_type": "execute_result", 
                    "metadata": {}
                }
            ], 
            "cell_type": "code", 
            "source": "model.transform(doc).head().model"
        }, 
        {
            "execution_count": 20, 
            "metadata": {
                "collapsed": false
            }, 
            "outputs": [], 
            "cell_type": "code", 
            "source": "word2vecPath = \"/gpfs/fs01/user/s619-ce16f20d3bebe8-2c631c8ff999/notebook/work\" + \"/word2vec\""
        }, 
        {
            "execution_count": 21, 
            "metadata": {
                "collapsed": false
            }, 
            "outputs": [], 
            "cell_type": "code", 
            "source": "word2Vec.save(word2vecPath)"
        }, 
        {
            "execution_count": 22, 
            "metadata": {
                "collapsed": true
            }, 
            "outputs": [], 
            "cell_type": "code", 
            "source": "loadedWord2Vec = Word2Vec.load(word2vecPath)"
        }, 
        {
            "execution_count": null, 
            "metadata": {
                "collapsed": true
            }, 
            "outputs": [], 
            "cell_type": "code", 
            "source": ""
        }
    ], 
    "metadata": {
        "language_info": {
            "nbconvert_exporter": "python", 
            "file_extension": ".py", 
            "codemirror_mode": {
                "name": "ipython", 
                "version": 2
            }, 
            "pygments_lexer": "ipython2", 
            "version": "2.7.11", 
            "mimetype": "text/x-python", 
            "name": "python"
        }, 
        "kernelspec": {
            "language": "python", 
            "display_name": "Python 2 with Spark 2.0", 
            "name": "python2-spark20"
        }
    }
}