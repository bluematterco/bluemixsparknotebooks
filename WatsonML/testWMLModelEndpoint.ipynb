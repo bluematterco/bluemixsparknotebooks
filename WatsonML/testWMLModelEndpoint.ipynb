{
    "nbformat_minor": 0, 
    "metadata": {
        "language_info": {
            "codemirror_mode": {
                "name": "ipython", 
                "version": 2
            }, 
            "pygments_lexer": "ipython2", 
            "nbconvert_exporter": "python", 
            "name": "python", 
            "file_extension": ".py", 
            "mimetype": "text/x-python", 
            "version": "2.7.11"
        }, 
        "kernelspec": {
            "language": "python", 
            "name": "python2-spark20", 
            "display_name": "Python 2 with Spark 2.0"
        }
    }, 
    "cells": [
        {
            "execution_count": 5, 
            "source": "service_path = 'https://ibm-watson-ml.mybluemix.net'\nusername = '6fc0591c-5354-4b3a-b4e2-f2ece127d380'\npassword = '<PUT-Password-here-fromWMLService>'", 
            "outputs": [], 
            "cell_type": "code", 
            "metadata": {
                "collapsed": true
            }
        }, 
        {
            "execution_count": 6, 
            "source": "import urllib3, requests, json\n\nheaders = urllib3.util.make_headers(basic_auth='{}:{}'.format(username, password))\nurl = '{}/v2/identity/token'.format(service_path)\nresponse = requests.get(url, headers=headers)\nmltoken = json.loads(response.text).get('token')", 
            "outputs": [], 
            "cell_type": "code", 
            "metadata": {
                "collapsed": false
            }
        }, 
        {
            "execution_count": 10, 
            "source": "endpoint_online = service_path + \"/v2/online/deployments/\"\nheader_online = {'Content-Type': 'application/json', 'Authorization': mltoken}", 
            "outputs": [], 
            "cell_type": "code", 
            "metadata": {
                "collapsed": false
            }
        }, 
        {
            "execution_count": 11, 
            "source": "#Your scoring endpoint from model Deployment\nscoring_href='https://ibm-watson-ml.mybluemix.net/32768/v2/scoring/2276'", 
            "outputs": [], 
            "cell_type": "code", 
            "metadata": {
                "collapsed": true
            }
        }, 
        {
            "execution_count": 26, 
            "source": "payload_scoring = {\"record\":[48, 80,'1.02','1','0','?','normal','notpresent','notpresent','121','36',1.2,'?','?','15.4','44','7800','5.2','yes','yes','no','good','no','no']}\nresponse_scoring = requests.put(scoring_href, json=payload_scoring, headers=header_online)\n\nprint response_scoring.text", 
            "outputs": [
                {
                    "name": "stdout", 
                    "output_type": "stream", 
                    "text": "{\"result\":{\"ba\":\"notpresent\",\"bgr\":\"121\",\"cad\":\"no\",\"pcv\":\"44\",\"ane\":\"no\",\"pot\":\"?\",\"features\":{\"values\":[2.0242343779545573,2.189642759899085,0.0,1.2319168736781279,0.0,1.5021471739881571,0.0,0.0,0.0,0.7971274435882104,0.4725671863457116,0.0,0.0,1.7799838878650074,0.10334286199752123,0.5937770490575496,0.08598503366094289,2.029611118351268,2.076552499374509,0.0,0.0,0.0,0.0]},\"htn\":\"yes\",\"sc\":1.2,\"su\":\"0\",\"nodeADP_class\":\"ckd\",\"prediction\":0.0,\"pe\":\"no\",\"al\":\"1\",\"age\":48,\"rbc\":\"?\",\"appet\":\"good\",\"hemo\":\"15.4\",\"bu\":\"36\",\"sg\":\"1.02\",\"bp\":80,\"pc\":\"normal\",\"dm\":\"yes\",\"wbcc\":\"7800\",\"rawPrediction\":{\"values\":[148.3713763519225,-148.3713763519225]},\"sod\":\"?\",\"rbcc\":\"5.2\",\"pcc\":\"notpresent\",\"probability\":{\"values\":[1.0,3.657042251478538E-65]}}}\n"
                }
            ], 
            "cell_type": "code", 
            "metadata": {
                "collapsed": false
            }
        }
    ], 
    "nbformat": 4
}