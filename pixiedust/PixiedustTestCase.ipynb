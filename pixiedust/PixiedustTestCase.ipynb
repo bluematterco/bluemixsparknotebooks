{
    "nbformat_minor": 0, 
    "nbformat": 4, 
    "cells": [
        {
            "source": "!pip install --user --no-deps --upgrade pixiedust", 
            "execution_count": 4, 
            "cell_type": "code", 
            "metadata": {
                "collapsed": false
            }, 
            "outputs": [
                {
                    "output_type": "stream", 
                    "text": "Collecting pixiedust\n  Downloading pixiedust-0.75.tar.gz (67kB)\n\u001b[K    100% |\u2588\u2588\u2588\u2588\u2588\u2588\u2588\u2588\u2588\u2588\u2588\u2588\u2588\u2588\u2588\u2588\u2588\u2588\u2588\u2588\u2588\u2588\u2588\u2588\u2588\u2588\u2588\u2588\u2588\u2588\u2588\u2588| 71kB 1.4MB/s \n\u001b[?25hBuilding wheels for collected packages: pixiedust\n  Running setup.py bdist_wheel for pixiedust ... \u001b[?25l-\b \b\\\b \b|\b \bdone\n\u001b[?25h  Stored in directory: /gpfs/fs01/user/s7b4-b98406426c07e8-2c631c8ff999/.cache/pip/wheels/ca/70/a8/ca7da92127553a29255c3c6f742ae2d753785ee189db92f7ed\nSuccessfully built pixiedust\nInstalling collected packages: pixiedust\n  Found existing installation: pixiedust 0.74\n    Uninstalling pixiedust-0.74:\n      Successfully uninstalled pixiedust-0.74\nSuccessfully installed pixiedust-0.75\n", 
                    "name": "stdout"
                }
            ]
        }, 
        {
            "source": "import pixiedust", 
            "execution_count": 5, 
            "cell_type": "code", 
            "metadata": {
                "collapsed": false
            }, 
            "outputs": [
                {
                    "output_type": "stream", 
                    "text": "Pixiedust database opened successfully\nPixiedust version 0.74\nTable USER_PREFERENCES created successfully\n", 
                    "name": "stdout"
                }
            ]
        }, 
        {
            "source": "%lsmagic", 
            "execution_count": 6, 
            "cell_type": "code", 
            "metadata": {
                "collapsed": false
            }, 
            "outputs": [
                {
                    "output_type": "execute_result", 
                    "execution_count": 6, 
                    "data": {
                        "application/json": {
                            "cell": {
                                "python3": "Other", 
                                "prun": "ExecutionMagics", 
                                "scala": "PixiedustScalaMagics", 
                                "debug": "ExecutionMagics", 
                                "ruby": "Other", 
                                "python2": "Other", 
                                "bash": "Other", 
                                "latex": "DisplayMagics", 
                                "!": "OSMagics", 
                                "svg": "DisplayMagics", 
                                "sh": "Other", 
                                "capture": "ExecutionMagics", 
                                "HTML": "Other", 
                                "writefile": "OSMagics", 
                                "time": "ExecutionMagics", 
                                "file": "Other", 
                                "pypy": "Other", 
                                "html": "DisplayMagics", 
                                "sx": "OSMagics", 
                                "timeit": "ExecutionMagics", 
                                "script": "ScriptMagics", 
                                "SVG": "Other", 
                                "python": "Other", 
                                "javascript": "DisplayMagics", 
                                "system": "OSMagics", 
                                "perl": "Other"
                            }, 
                            "line": {
                                "quickref": "BasicMagics", 
                                "killbgscripts": "ScriptMagics", 
                                "alias_magic": "BasicMagics", 
                                "store": "StoreMagics", 
                                "dirs": "OSMagics", 
                                "set_env": "OSMagics", 
                                "dhist": "OSMagics", 
                                "logstart": "LoggingMagics", 
                                "unalias": "OSMagics", 
                                "ldir": "Other", 
                                "who": "NamespaceMagics", 
                                "install_ext": "ExtensionMagics", 
                                "install_default_config": "DeprecatedMagics", 
                                "ls": "Other", 
                                "rerun": "HistoryMagics", 
                                "profile": "BasicMagics", 
                                "sc": "OSMagics", 
                                "lx": "Other", 
                                "lf": "Other", 
                                "sx": "OSMagics", 
                                "autocall": "AutoMagics", 
                                "ll": "Other", 
                                "system": "OSMagics", 
                                "hist": "Other", 
                                "env": "OSMagics", 
                                "debug": "ExecutionMagics", 
                                "cp": "Other", 
                                "man": "KernelMagics", 
                                "config": "ConfigMagics", 
                                "lsmagic": "BasicMagics", 
                                "reset_selective": "NamespaceMagics", 
                                "pfile": "NamespaceMagics", 
                                "pushd": "OSMagics", 
                                "xdel": "NamespaceMagics", 
                                "pycat": "OSMagics", 
                                "pprint": "BasicMagics", 
                                "cd": "OSMagics", 
                                "psearch": "NamespaceMagics", 
                                "gui": "BasicMagics", 
                                "rmdir": "Other", 
                                "time": "ExecutionMagics", 
                                "load": "CodeMagics", 
                                "rm": "Other", 
                                "load_ext": "ExtensionMagics", 
                                "lk": "Other", 
                                "doctest_mode": "BasicMagics", 
                                "logstate": "LoggingMagics", 
                                "whos": "NamespaceMagics", 
                                "xmode": "BasicMagics", 
                                "matplotlib": "PylabMagics", 
                                "logoff": "LoggingMagics", 
                                "pwd": "OSMagics", 
                                "unload_ext": "ExtensionMagics", 
                                "qtconsole": "KernelMagics", 
                                "save": "CodeMagics", 
                                "pdb": "ExecutionMagics", 
                                "who_ls": "NamespaceMagics", 
                                "install_profiles": "DeprecatedMagics", 
                                "reset": "NamespaceMagics", 
                                "popd": "OSMagics", 
                                "recall": "HistoryMagics", 
                                "loadpy": "CodeMagics", 
                                "pdoc": "NamespaceMagics", 
                                "precision": "BasicMagics", 
                                "clear": "KernelMagics", 
                                "logon": "LoggingMagics", 
                                "more": "KernelMagics", 
                                "macro": "ExecutionMagics", 
                                "pylab": "PylabMagics", 
                                "mkdir": "Other", 
                                "cat": "Other", 
                                "alias": "OSMagics", 
                                "pastebin": "CodeMagics", 
                                "bookmark": "OSMagics", 
                                "reload_ext": "ExtensionMagics", 
                                "psource": "NamespaceMagics", 
                                "prun": "ExecutionMagics", 
                                "automagic": "AutoMagics", 
                                "logstop": "LoggingMagics", 
                                "pinfo2": "NamespaceMagics", 
                                "magic": "BasicMagics", 
                                "less": "KernelMagics", 
                                "ed": "Other", 
                                "edit": "KernelMagics", 
                                "rep": "Other", 
                                "autosave": "KernelMagics", 
                                "pinfo": "NamespaceMagics", 
                                "mv": "Other", 
                                "colors": "BasicMagics", 
                                "pixiedustLog": "PixiedustLoggingMagics", 
                                "pdef": "NamespaceMagics", 
                                "page": "BasicMagics", 
                                "tb": "ExecutionMagics", 
                                "history": "HistoryMagics", 
                                "timeit": "ExecutionMagics", 
                                "run": "ExecutionMagics", 
                                "notebook": "BasicMagics", 
                                "connect_info": "KernelMagics", 
                                "rehashx": "OSMagics"
                            }
                        }, 
                        "text/plain": "Available line magics:\n%alias  %alias_magic  %autocall  %automagic  %autosave  %bookmark  %cat  %cd  %clear  %colors  %config  %connect_info  %cp  %debug  %dhist  %dirs  %doctest_mode  %ed  %edit  %env  %gui  %hist  %history  %install_default_config  %install_ext  %install_profiles  %killbgscripts  %ldir  %less  %lf  %lk  %ll  %load  %load_ext  %loadpy  %logoff  %logon  %logstart  %logstate  %logstop  %ls  %lsmagic  %lx  %macro  %magic  %man  %matplotlib  %mkdir  %more  %mv  %notebook  %page  %pastebin  %pdb  %pdef  %pdoc  %pfile  %pinfo  %pinfo2  %pixiedustLog  %popd  %pprint  %precision  %profile  %prun  %psearch  %psource  %pushd  %pwd  %pycat  %pylab  %qtconsole  %quickref  %recall  %rehashx  %reload_ext  %rep  %rerun  %reset  %reset_selective  %rm  %rmdir  %run  %save  %sc  %set_env  %store  %sx  %system  %tb  %time  %timeit  %unalias  %unload_ext  %who  %who_ls  %whos  %xdel  %xmode\n\nAvailable cell magics:\n%%!  %%HTML  %%SVG  %%bash  %%capture  %%debug  %%file  %%html  %%javascript  %%latex  %%perl  %%prun  %%pypy  %%python  %%python2  %%python3  %%ruby  %%scala  %%script  %%sh  %%svg  %%sx  %%system  %%time  %%timeit  %%writefile\n\nAutomagic is ON, % prefix IS NOT needed for line magics."
                    }, 
                    "metadata": {}
                }
            ]
        }, 
        {
            "source": "!wget https://github.com/apache/spark/raw/master/examples/src/main/resources/people.json", 
            "execution_count": 14, 
            "cell_type": "code", 
            "metadata": {
                "collapsed": false
            }, 
            "outputs": [
                {
                    "output_type": "stream", 
                    "text": "--2017-01-27 16:15:55--  https://github.com/apache/spark/raw/master/examples/src/main/resources/people.json\nResolving github.com (github.com)... 192.30.253.112, 192.30.253.113\nConnecting to github.com (github.com)|192.30.253.112|:443... connected.\nHTTP request sent, awaiting response... 302 Found\nLocation: https://raw.githubusercontent.com/apache/spark/master/examples/src/main/resources/people.json [following]\n--2017-01-27 16:15:56--  https://raw.githubusercontent.com/apache/spark/master/examples/src/main/resources/people.json\nResolving raw.githubusercontent.com (raw.githubusercontent.com)... 151.101.48.133\nConnecting to raw.githubusercontent.com (raw.githubusercontent.com)|151.101.48.133|:443... connected.\nHTTP request sent, awaiting response... 200 OK\nLength: 73 [text/plain]\nSaving to: \u2018people.json\u2019\n\n100%[======================================>] 73          --.-K/s   in 0s      \n\n2017-01-27 16:15:56 (17.9 MB/s) - \u2018people.json\u2019 saved [73/73]\n\n", 
                    "name": "stdout"
                }
            ]
        }, 
        {
            "source": "!cat people.json", 
            "execution_count": 15, 
            "cell_type": "code", 
            "metadata": {
                "collapsed": false
            }, 
            "outputs": [
                {
                    "output_type": "stream", 
                    "text": "{\"name\":\"Michael\"}\r\n{\"name\":\"Andy\", \"age\":30}\r\n{\"name\":\"Justin\", \"age\":19}\r\n", 
                    "name": "stdout"
                }
            ]
        }, 
        {
            "source": "%%scala\nimport org.apache.spark.sql._\n\nval sqlContext = new org.apache.spark.sql.SQLContext(sc)\n\nval __df = sqlContext.read.json(\"people.json\")\n\n__df.show()", 
            "execution_count": 18, 
            "cell_type": "code", 
            "metadata": {
                "collapsed": false
            }, 
            "outputs": [
                {
                    "output_type": "stream", 
                    "text": "+----+-------+\n| age|   name|\n+----+-------+\n|null|Michael|\n|  30|   Andy|\n|  19| Justin|\n+----+-------+\n\n", 
                    "name": "stdout"
                }
            ]
        }, 
        {
            "source": "display(__df)", 
            "execution_count": 19, 
            "cell_type": "code", 
            "metadata": {
                "pixiedust": {
                    "displayParams": {
                        "handlerId": "dataframe"
                    }
                }, 
                "collapsed": false
            }, 
            "outputs": [
                {
                    "output_type": "display_data", 
                    "data": {
                        "text/html": "<style type=\"text/css\">.pd_warning{display:none;}</style><div class=\"pd_warning\"><em>Hey, there's something awesome here! To see it, open this notebook outside GitHub, in a viewer like Jupyter</em></div><style type=\"text/css\" class=\"pd_save is-viewer-good\">\n  .df-table-wrapper .panel-heading {\n    border-radius: 0;\n    padding: 0px;\n  }\n  .df-table-wrapper .panel-heading:hover {\n    border-color: #008571;\n  }\n  .df-table-wrapper .panel-title a {\n    background-color: #f9f9fb;\n    color: #333333;\n    display: block;\n    outline: none;\n    padding: 10px 15px;\n    text-decoration: none;\n  }\n  .df-table-wrapper .panel-title a:hover {\n    background-color: #337ab7;\n    border-color: #2e6da4;\n    color: #ffffff;\n    display: block;\n    padding: 10px 15px;\n    text-decoration: none;\n  }\n  .df-table-wrapper {\n    font-size: small;\n    font-weight: 300;\n    letter-spacing: 0.5px;\n    line-height: normal;\n  }\n  .df-table-search-count {\n    display: inline-block;\n    margin: 20px 0;\n  }\n  .df-table-container {\n    max-height: 50vh;\n    max-width: 100%;\n    overflow-x: auto;\n    position: relative;\n  }\n  .df-table-wrapper table {\n    border: 0 none #ffffff;\n    border-collapse: collapse;\n    margin: 0;\n    min-width: 100%;\n    padding: 0;\n    table-layout: fixed;\n  }\n  .df-table-wrapper tr.hidden {\n    display: none;\n  }\n  .df-table-wrapper tr:nth-child(even) {\n    background-color: #f9f9fb;\n  }\n  .df-table-wrapper tr.even {\n    background-color: #f9f9fb;\n  }\n  .df-table-wrapper tr.odd {\n    background-color: #ffffff;\n  }\n  .df-table-wrapper td + td {\n    border-left: 1px solid #e0e0e0;\n  }\n\n  .df-table-wrapper thead,\n  .fixed-header {\n    color: #337ab7;\n    font-family: monospace;\n  }\n  .df-table-wrapper tr,\n  .fixed-row {\n    border: 0 none #ffffff;\n    margin: 0;\n    padding: 0;\n  }\n  .df-table-wrapper th,\n  .df-table-wrapper td,\n  .fixed-cell {\n    border: 0 none #ffffff;\n    margin: 0;\n    min-width: 50px;\n    padding: 5px 20px 5px 10px;\n    text-align: left;\n    word-wrap: break-word;\n  }\n  .df-table-wrapper th {\n    padding-bottom: 0;\n    padding-top: 0;\n  }\n  .df-table-wrapper th div {\n    max-height: 1px;\n    visibility: hidden;\n  }\n\n  .df-schema-field {\n    margin-left: 10px;\n  }\n\n  .fixed-header-container {\n    overflow: hidden;\n    position: relative;\n  }\n  .fixed-header {\n    border-bottom: 2px solid #2e6da4;\n    display: table;\n    position: relative;\n  }\n  .fixed-row {\n    display: table-row;\n  }\n  .fixed-cell {\n    display: table-cell;\n  }\n</style><div class=\"df-table-wrapper df-table-wrapper-1a998e74 panel-group pd_save is-viewer-good\">\n  <!-- dataframe schema -->\n  <div class=\"panel panel-default\">\n    <div class=\"panel-heading\">\n      <h4 class=\"panel-title\" style=\"margin: 0px;\">\n        <a data-toggle=\"collapse\" href=\"#df-schema-1a998e74\" data-parent=\"#df-table-wrapper-1a998e74\">Schema</a>\n      </h4>\n    </div>\n    <div id=\"df-schema-1a998e74\" class=\"panel-collapse collapse\">\n      <div class=\"panel-body\" style=\"font-family: monospace;\">\n        <div class=\"df-schema-type\">\n          <span>type: </span><span>struct</span>\n        </div>\n        <div class=\"df-schema-fields\">\n          <div>field:</div>\n          \n            <div class=\"df-schema-field\">{'metadata': {}, 'type': 'long', 'name': 'age', 'nullable': True}</div>\n          \n            <div class=\"df-schema-field\">{'metadata': {}, 'type': 'string', 'name': 'name', 'nullable': True}</div>\n          \n        </div>\n      </div>\n    </div>\n  </div>\n  <!-- dataframe table -->\n  <div class=\"panel panel-default\">\n    <div class=\"panel-heading\">\n      <h4 class=\"panel-title\" style=\"margin: 0px;\">\n        <a data-toggle=\"collapse\" href=\"#df-table-1a998e74\" data-parent=\"#df-table-wrapper-1a998e74\">Table</a>\n      </h4>\n    </div>\n    <div id=\"df-table-1a998e74\" class=\"panel-collapse collapse in\">\n      <div class=\"panel-body\">\n        \n        <input type=\"text\" class=\"df-table-search form-control input-sm\" placeholder=\"Search table\">\n        <div>\n          <span class=\"df-table-search-count\">Showing 3 of 3</span>\n        </div>\n        <!-- fixed header for when dataframe table scrolls -->\n        <div class=\"fixed-header-container\">\n          <div class=\"fixed-header\">\n            <div class=\"fixed-row\">\n              \n              <div class=\"fixed-cell\">age</div>\n              \n              <div class=\"fixed-cell\">name</div>\n              \n            </div>\n          </div>\n        </div>\n        <div class=\"df-table-container\">\n          <table class=\"df-table\">\n            <thead>\n              <tr>\n                \n                <th><div>age</div></th>\n                \n                <th><div>name</div></th>\n                \n              </tr>\n            </thead>\n            <tbody>\n              \n              <tr>\n                \n                <td>None</td>\n                \n                <td>Michael</td>\n                \n              </tr>\n              \n              <tr>\n                \n                <td>30</td>\n                \n                <td>Andy</td>\n                \n              </tr>\n              \n              <tr>\n                \n                <td>19</td>\n                \n                <td>Justin</td>\n                \n              </tr>\n              \n            </tbody>\n          </table>\n        </div>\n      </div>\n    </div>\n  </div>\n</div><script class=\"pd_save is-viewer-good\">\n  $(function() {\n    var tableWrapper = $('.df-table-wrapper-1a998e74');\n    var fixedHeader = $('.fixed-header', tableWrapper);\n    var tableContainer = $('.df-table-container', tableWrapper);\n    var table = $('.df-table', tableContainer);\n    var rows = $('tbody > tr', table);\n    var total = 3;\n\n    fixedHeader\n      .css('width', table.width())\n      .find('.fixed-cell')\n      .each(function(i, e) {\n        $(this).css('width', $('.df-table-wrapper-1a998e74 th:nth-child(' + (i+1) + ')').css('width'));\n      });\n\n    tableContainer.scroll(function() {\n      fixedHeader.css({ left: table.position().left });\n    });\n\n    $('.df-table-search', tableWrapper).keyup(function() {\n      var val = '^(?=.*\\\\b' + $.trim($(this).val()).split(/\\s+/).join('\\\\b)(?=.*\\\\b') + ').*$';\n      var reg = RegExp(val, 'i');\n      var index = 0;\n      \n      rows.each(function(i, e) {\n        if (!reg.test($(this).text().replace(/\\s+/g, ' '))) {\n          $(this).attr('class', 'hidden');\n        }\n        else {\n          $(this).attr('class', (++index % 2 == 0 ? 'even' : 'odd'));\n        }\n      });\n\n      $('.df-table-search-count', tableWrapper).html('Showing ' + index + ' of ' + total);\n    });\n  });\n</script>", 
                        "text/plain": "<IPython.core.display.HTML object>"
                    }, 
                    "metadata": {}
                }
            ]
        }, 
        {
            "source": "", 
            "execution_count": null, 
            "cell_type": "code", 
            "metadata": {
                "collapsed": true
            }, 
            "outputs": []
        }
    ], 
    "metadata": {
        "kernelspec": {
            "name": "python2", 
            "display_name": "Python 2 with Spark 1.6", 
            "language": "python"
        }, 
        "language_info": {
            "nbconvert_exporter": "python", 
            "mimetype": "text/x-python", 
            "version": "2.7.11", 
            "pygments_lexer": "ipython2", 
            "name": "python", 
            "file_extension": ".py", 
            "codemirror_mode": {
                "version": 2, 
                "name": "ipython"
            }
        }
    }
}