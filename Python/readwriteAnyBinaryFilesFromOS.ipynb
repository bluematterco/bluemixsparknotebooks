{
    "nbformat": 4, 
    "cells": [
        {
            "source": "#Upload the file or drop file in the right panel under Files to upload it to Object Storage\n#Once thats done, highlight next cell and then click the upside down triangle next to your file and\n#Insert StringIO object\n#Now you need to do some changes .\n# Replace StringIO with BytesIO since we are reading files in Binary format.\n# Replace resp2.text with resp2.content", 
            "execution_count": null, 
            "cell_type": "code", 
            "metadata": {
                "collapsed": true
            }, 
            "outputs": []
        }, 
        {
            "source": "\nfrom io import BytesIO\nimport requests\nimport json\nimport pandas as pd\n\n# This function accesses a file in your Object Storage. The definition contains your credentials.\n# You might want to remove those credentials before you share your notebook.\ndef get_object_storage_file_with_credentials_216c032f3f574763ae975c6a83a0d523(container, filename):\n    \"\"\"This functions returns a StringIO object containing\n    the file content from Bluemix Object Storage.\"\"\"\n\n    url1 = ''.join(['https://identity.open.softlayer.com', '/v3/auth/tokens'])\n    data = {'auth': {'identity': {'methods': ['password'],\n            'password': {'user': {'name': 'member_4053c4c193d0ca85037608c30ae6217405f8d0ea','domain': {'id': 'da5b6dd1c8374f67b1050172badbef8c'},\n            'password': 'XXXXXXXXXX'}}}}}\n    headers1 = {'Content-Type': 'application/json'}\n    resp1 = requests.post(url=url1, data=json.dumps(data), headers=headers1)\n    resp1_body = resp1.json()\n    for e1 in resp1_body['token']['catalog']:\n        if(e1['type']=='object-store'):\n            for e2 in e1['endpoints']:\n                        if(e2['interface']=='public'and e2['region']=='dallas'):\n                            url2 = ''.join([e2['url'],'/', container, '/', filename])\n    s_subject_token = resp1.headers['x-subject-token']\n    headers2 = {'X-Auth-Token': s_subject_token, 'accept': 'application/json'}\n    resp2 = requests.get(url=url2, headers=headers2)\n    return BytesIO(resp2.content)\n\n# Your data file was loaded into a StringIO object and you can process the data.\n# Please read the documentation of pandas to learn more about your possibilities to load your data.\n# pandas documentation: http://pandas.pydata.org/pandas-docs/stable/io.html\ndata_1 = get_object_storage_file_with_credentials_216c032f3f574763ae975c6a83a0d523('testSchedulling', 'matrices.mat')\n", 
            "execution_count": 3, 
            "cell_type": "code", 
            "metadata": {}, 
            "outputs": []
        }, 
        {
            "source": "#Import any of the library that you want to use to read file or content\n# For ex. in this case, we are reading mat files so we are using scipy.io", 
            "execution_count": null, 
            "cell_type": "code", 
            "metadata": {
                "collapsed": true
            }, 
            "outputs": []
        }, 
        {
            "source": "import scipy.io as sio", 
            "execution_count": 4, 
            "cell_type": "code", 
            "metadata": {
                "collapsed": true
            }, 
            "outputs": []
        }, 
        {
            "source": "# now loadmat can take binary object, in this case data_1 that we read from object storage.", 
            "execution_count": null, 
            "cell_type": "code", 
            "metadata": {
                "collapsed": true
            }, 
            "outputs": []
        }, 
        {
            "source": "mat_contents = sio.loadmat(data_1)", 
            "execution_count": 5, 
            "cell_type": "code", 
            "metadata": {
                "collapsed": true
            }, 
            "outputs": []
        }, 
        {
            "source": "mat_contents", 
            "execution_count": 6, 
            "cell_type": "code", 
            "metadata": {}, 
            "outputs": [
                {
                    "data": {
                        "text/plain": "{'__globals__': [],\n '__header__': 'MATLAB 5.0 MAT-file, Platform: PCWIN, Created on: Fri Aug 29 17:45:00 2014',\n '__version__': '1.0',\n 'z': array([[ (array([[42]], dtype=uint8), array([[1, 2, 3]], dtype=uint8), array([[1],\n        [2],\n        [3]], dtype=uint8), array([[11, 12],\n        [21, 22]], dtype=uint8), array([[[111, 112, 113],\n         [121, 122, 123],\n         [131, 132, 133]],\n \n        [[211, 212, 213],\n         [221, 222, 223],\n         [231, 232, 233]],\n \n        [[311, 312, 313],\n         [321, 322, 323],\n         [331, 332, 333]]], dtype=uint16), array([[[[1111, 1112, 1113, 1114, 1115],\n          [1121, 1122, 1123, 1124, 1125],\n          [1131, 1132, 1133, 1134, 1135],\n          [1141, 1142, 1143, 1144, 1145]],\n \n         [[1211, 1212, 1213, 1214, 1215],\n          [1221, 1222, 1223, 1224, 1225],\n          [1231, 1232, 1233, 1234, 1235],\n          [1241, 1242, 1243, 1244, 1245]],\n \n         [[1311, 1312, 1313, 1314, 1315],\n          [1321, 1322, 1323, 1324, 1325],\n          [1331, 1332, 1333, 1334, 1335],\n          [1341, 1342, 1343, 1344, 1345]]],\n \n \n        [[[2111, 2112, 2113, 2114, 2115],\n          [2121, 2122, 2123, 2124, 2125],\n          [2131, 2132, 2133, 2134, 2135],\n          [2141, 2142, 2143, 2144, 2145]],\n \n         [[2211, 2212, 2213, 2214, 2215],\n          [2221, 2222, 2223, 2224, 2225],\n          [2231, 2232, 2233, 2234, 2235],\n          [2241, 2242, 2243, 2244, 2245]],\n \n         [[2311, 2312, 2313, 2314, 2315],\n          [2321, 2322, 2323, 2324, 2325],\n          [2331, 2332, 2333, 2334, 2335],\n          [2341, 2342, 2343, 2344, 2345]]],\n \n \n        [[[3111, 3112, 3113, 3114, 3115],\n          [3121, 3122, 3123, 3124, 3125],\n          [3131, 3132, 3133, 3134, 3135],\n          [3141, 3142, 3143, 3144, 3145]],\n \n         [[3211, 3212, 3213, 3214, 3215],\n          [3221, 3222, 3223, 3224, 3225],\n          [3231, 3232, 3233, 3234, 3235],\n          [3241, 3242, 3243, 3244, 3245]],\n \n         [[3311, 3312, 3313, 3314, 3315],\n          [3321, 3322, 3323, 3324, 3325],\n          [3331, 3332, 3333, 3334, 3335],\n          [3341, 3342, 3343, 3344, 3345]]],\n \n \n        [[[4111, 4112, 4113, 4114, 4115],\n          [4121, 4122, 4123, 4124, 4125],\n          [4131, 4132, 4133, 4134, 4135],\n          [4141, 4142, 4143, 4144, 4145]],\n \n         [[4211, 4212, 4213, 4214, 4215],\n          [4221, 4222, 4223, 4224, 4225],\n          [4231, 4232, 4233, 4234, 4235],\n          [4241, 4242, 4243, 4244, 4245]],\n \n         [[4311, 4312, 4313, 4314, 4315],\n          [4321, 4322, 4323, 4324, 4325],\n          [4331, 4332, 4333, 4334, 4335],\n          [4341, 4342, 4343, 4344, 4345]]],\n \n \n        [[[5111, 5112, 5113, 5114, 5115],\n          [5121, 5122, 5123, 5124, 5125],\n          [5131, 5132, 5133, 5134, 5135],\n          [5141, 5142, 5143, 5144, 5145]],\n \n         [[5211, 5212, 5213, 5214, 5215],\n          [5221, 5222, 5223, 5224, 5225],\n          [5231, 5232, 5233, 5234, 5235],\n          [5241, 5242, 5243, 5244, 5245]],\n \n         [[5311, 5312, 5313, 5314, 5315],\n          [5321, 5322, 5323, 5324, 5325],\n          [5331, 5332, 5333, 5334, 5335],\n          [5341, 5342, 5343, 5344, 5345]]]], dtype=uint16))]],\n       dtype=[('scalar', 'O'), ('row', 'O'), ('col', 'O'), ('arr2d', 'O'), ('arr3d', 'O'), ('arr4d', 'O')])}"
                    }, 
                    "execution_count": 6, 
                    "metadata": {}, 
                    "output_type": "execute_result"
                }
            ]
        }
    ], 
    "metadata": {
        "language_info": {
            "pygments_lexer": "ipython2", 
            "mimetype": "text/x-python", 
            "name": "python", 
            "codemirror_mode": {
                "version": 2, 
                "name": "ipython"
            }, 
            "file_extension": ".py", 
            "version": "2.7.11", 
            "nbconvert_exporter": "python"
        }, 
        "kernelspec": {
            "language": "python", 
            "display_name": "Python 2 with Spark 2.0", 
            "name": "python2-spark20"
        }
    }, 
    "nbformat_minor": 1
}