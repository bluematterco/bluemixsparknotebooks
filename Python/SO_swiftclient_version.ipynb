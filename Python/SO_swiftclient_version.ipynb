{
 "cells": [
  {
   "cell_type": "code",
   "execution_count": 4,
   "metadata": {
    "collapsed": false
   },
   "outputs": [
    {
     "name": "stdout",
     "output_type": "stream",
     "text": [
      "Collecting python-swiftclient\n",
      "  Downloading python_swiftclient-3.0.0-py2.py3-none-any.whl (62kB)\n",
      "\u001b[K    100% |################################| 71kB 7.0MB/s \n",
      "\u001b[?25hCollecting futures>=2.1.3 (from python-swiftclient)\n",
      "  Downloading futures-3.0.5-py2-none-any.whl\n",
      "Requirement already satisfied (use --upgrade to upgrade): requests>=1.1 in /usr/local/src/bluemix_jupyter_bundle.v7/notebook/lib/python2.7/site-packages (from python-swiftclient)\n",
      "Requirement already satisfied (use --upgrade to upgrade): six>=1.5.2 in /usr/local/src/bluemix_jupyter_bundle.v7/notebook/lib/python2.7/site-packages (from python-swiftclient)\n",
      "Installing collected packages: futures, python-swiftclient\n",
      "Successfully installed futures-3.0.5 python-swiftclient-3.0.0\n"
     ]
    }
   ],
   "source": [
    "!pip install --user python-swiftclient"
   ]
  },
  {
   "cell_type": "code",
   "execution_count": 7,
   "metadata": {
    "collapsed": false
   },
   "outputs": [],
   "source": [
    "import swiftclient.client"
   ]
  },
  {
   "cell_type": "code",
   "execution_count": 8,
   "metadata": {
    "collapsed": true
   },
   "outputs": [],
   "source": [
    "from keystoneclient import client"
   ]
  }
 ],
 "metadata": {
  "kernelspec": {
   "display_name": "Python 2",
   "language": "python",
   "name": "python2"
  },
  "language_info": {
   "codemirror_mode": {
    "name": "ipython",
    "version": 2
   },
   "file_extension": ".py",
   "mimetype": "text/x-python",
   "name": "python",
   "nbconvert_exporter": "python",
   "pygments_lexer": "ipython2",
   "version": "2.7.11"
  }
 },
 "nbformat": 4,
 "nbformat_minor": 0
}