{
    "metadata": {
        "language_info": {
            "codemirror_mode": {
                "name": "ipython", 
                "version": 2
            }, 
            "file_extension": ".py", 
            "version": "2.7.11", 
            "name": "python", 
            "pygments_lexer": "ipython2", 
            "mimetype": "text/x-python", 
            "nbconvert_exporter": "python"
        }, 
        "kernelspec": {
            "language": "python", 
            "display_name": "Python 2 with Spark 2.0", 
            "name": "python2-spark20"
        }
    }, 
    "nbformat": 4, 
    "cells": [
        {
            "execution_count": 2, 
            "metadata": {
                "collapsed": false
            }, 
            "source": "!rm samplewavefile1.wav", 
            "cell_type": "code", 
            "outputs": []
        }, 
        {
            "execution_count": 3, 
            "metadata": {
                "collapsed": true
            }, 
            "source": "import numpy as np", 
            "cell_type": "code", 
            "outputs": []
        }, 
        {
            "execution_count": 4, 
            "metadata": {
                "collapsed": true
            }, 
            "source": "import requests,json", 
            "cell_type": "code", 
            "outputs": []
        }, 
        {
            "execution_count": 5, 
            "metadata": {
                "collapsed": true
            }, 
            "source": "\noscredential = {\n  'auth_url':'https://identity.open.softlayer.com',\n  'project':'object_storage_216c032f_3f57_4763_ae97_5c6a83a0d523',\n  'project_id':'e097bbd898534ed1ad0e45c82baedb2d',\n  'region':'dallas',\n  'user_id':'9a3f2edd83394c798350768f9e1582db',\n  'domain_id':'da5b6dd1c8374f67b1050172badbef8c',\n  'domain_name':'837523',\n  'username':'member_4053c4c193d0ca85037608c30ae6217405f8d0ea',\n  'password':\"\"\"XXXXXX\"\"\",\n  'container':'testSchedulling',\n  'tenantId':'undefined',\n  'filename':'samplewavefile1.wav'\n}\n", 
            "cell_type": "code", 
            "outputs": []
        }, 
        {
            "execution_count": 6, 
            "metadata": {
                "collapsed": true
            }, 
            "source": "def get_object_storage_file(container,credentials,filename):\n    \"\"\"This functions returns a StringIO object containing\n    the file content from Bluemix Object Storage.\"\"\"\n\n    url1 = ''.join(['https://identity.open.softlayer.com', '/v3/auth/tokens'])\n    data = {'auth': {'identity': {'methods': ['password'],\n            'password': {'user': {'name': credentials['username'],'domain': {'id': credentials['domain_id']},\n            'password': credentials['password']}}}}}    \n    headers1 = {'Content-Type': 'application/json'}\n    resp1 = requests.post(url=url1, data=json.dumps(data), headers=headers1)\n    resp1_body = resp1.json()\n    for e1 in resp1_body['token']['catalog']:\n        if(e1['type']=='object-store'):\n            for e2 in e1['endpoints']:\n                        if(e2['interface']=='public'and e2['region']=='dallas'):\n                            url2 = ''.join([e2['url'],'/', container, '/', filename])\n    s_subject_token = resp1.headers['x-subject-token']\n    headers2 = {'X-Auth-Token': s_subject_token, 'accept': 'application/json'}\n    resp2 = requests.get(url=url2, headers=headers2)\n    return resp2", 
            "cell_type": "code", 
            "outputs": []
        }, 
        {
            "execution_count": 7, 
            "metadata": {
                "collapsed": true
            }, 
            "source": "filetoreadfromos = \"samplewavefile1.wav\"", 
            "cell_type": "code", 
            "outputs": []
        }, 
        {
            "execution_count": 8, 
            "metadata": {
                "collapsed": true
            }, 
            "source": "r = get_object_storage_file(oscredential['container'],oscredential,filetoreadfromos)", 
            "cell_type": "code", 
            "outputs": []
        }, 
        {
            "execution_count": 9, 
            "metadata": {
                "collapsed": true
            }, 
            "source": "with open(filetoreadfromos, 'wb') as file:\n    file.write(r.content)", 
            "cell_type": "code", 
            "outputs": []
        }, 
        {
            "execution_count": 10, 
            "metadata": {
                "collapsed": false
            }, 
            "source": "!ls", 
            "cell_type": "code", 
            "outputs": [
                {
                    "name": "stdout", 
                    "output_type": "stream", 
                    "text": "a2002011001-e02.wav  samplewavefile1.wav  spark-warehouse\r\n"
                }
            ]
        }, 
        {
            "execution_count": 11, 
            "metadata": {
                "collapsed": false
            }, 
            "source": "import numpy as np\nimport scipy.io.wavfile\n\nrate, data = scipy.io.wavfile.read('samplewavefile1.wav')\n\nsin_data = np.sin(data)\n\nprint sin_data", 
            "cell_type": "code", 
            "outputs": [
                {
                    "name": "stdout", 
                    "output_type": "stream", 
                    "text": "[[ 0.90929741  0.        ]\n [-0.95375264  0.7568025 ]\n [ 0.78498042  0.54402113]\n ..., \n [ 0.         -0.95892429]\n [ 0.84147096 -0.65698659]\n [-0.84147096  0.65698659]]\n"
                }, 
                {
                    "name": "stderr", 
                    "output_type": "stream", 
                    "text": "/usr/local/src/bluemix_jupyter_bundle.v41/notebook/lib/python2.7/site-packages/scipy/io/wavfile.py:221: WavFileWarning: Chunk (non-data) not understood, skipping it.\n  WavFileWarning)\n"
                }
            ]
        }, 
        {
            "execution_count": null, 
            "metadata": {
                "collapsed": true
            }, 
            "source": "", 
            "cell_type": "code", 
            "outputs": []
        }
    ], 
    "nbformat_minor": 0
}