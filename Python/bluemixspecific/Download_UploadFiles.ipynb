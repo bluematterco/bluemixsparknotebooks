{
 "cells": [
  {
   "cell_type": "markdown",
   "metadata": {},
   "source": [
    "<h1>Copy (Upload/Download) File from spark service tenant to/from remote host using scp, pexpect</h1>"
   ]
  },
  {
   "cell_type": "code",
   "execution_count": 2,
   "metadata": {
    "collapsed": true
   },
   "outputs": [],
   "source": [
    "#One of the requirement you may have to transfer your files to/from from Bluemix Spark\n",
    "#Service notebook enivornment to your enivornment.\n",
    "#we will use pexpect module to achieve this."
   ]
  },
  {
   "cell_type": "code",
   "execution_count": null,
   "metadata": {
    "collapsed": true
   },
   "outputs": [],
   "source": [
    "#Bluemix spark instances typically have pexpect but if you get error from below\n",
    "#statement, '!pip install --user pexpect' to install it."
   ]
  },
  {
   "cell_type": "code",
   "execution_count": 3,
   "metadata": {
    "collapsed": true
   },
   "outputs": [],
   "source": [
    "import pexpect"
   ]
  },
  {
   "cell_type": "code",
   "execution_count": null,
   "metadata": {
    "collapsed": false
   },
   "outputs": [],
   "source": [
    "#In above command we copy/download the file into scpsol directory under your tenant\n",
    "#directory on your spark service instance."
   ]
  },
  {
   "cell_type": "code",
   "execution_count": null,
   "metadata": {
    "collapsed": true
   },
   "outputs": [],
   "source": [
    "#do '!mkdir scpsol' give any name to your directory but change it below"
   ]
  },
  {
   "cell_type": "code",
   "execution_count": 7,
   "metadata": {
    "collapsed": true
   },
   "outputs": [],
   "source": [
    " try:\n",
    "        var_password  = \"xxxxxxxxxx\"\n",
    "        var_command = \"scp -o 'StrictHostKeyChecking no' your_username@remotehost.edu:/some/remote/directory/testfoobar.txt scpsol/\"\n",
    "        #make sure in the above command that username and hostname are according to your server or use ip if you don't have hostname.\n",
    "        var_child = pexpect.spawn(var_command)\n",
    "        i = var_child.expect([\"password:\", pexpect.EOF])\n",
    "\n",
    "        if i==0: # send password                \n",
    "                var_child.sendline(var_password)\n",
    "                var_child.expect(pexpect.EOF)\n",
    "        elif i==1: \n",
    "                print \"Key or connection timeout\"\n",
    "                pass\n",
    "\n",
    " except Exception as e:\n",
    "        print \"Something is not correct\"\n",
    "        print e"
   ]
  },
  {
   "cell_type": "code",
   "execution_count": null,
   "metadata": {
    "collapsed": false
   },
   "outputs": [],
   "source": [
    "#!ls scpsol --if you want to see the downloaded file"
   ]
  },
  {
   "cell_type": "code",
   "execution_count": 10,
   "metadata": {
    "collapsed": true
   },
   "outputs": [],
   "source": [
    "#TO copy/upload your files from spark service tenant to your remote server.\n",
    "#Use below command.Below command copies foobar.txt to remotehost.edu."
   ]
  },
  {
   "cell_type": "code",
   "execution_count": 16,
   "metadata": {
    "collapsed": true
   },
   "outputs": [],
   "source": [
    "!touch foobar.txt"
   ]
  },
  {
   "cell_type": "code",
   "execution_count": 17,
   "metadata": {
    "collapsed": true
   },
   "outputs": [],
   "source": [
    " try:\n",
    "        var_password  = \"xxxxxxxxxxxx\"\n",
    "        var_command = \"scp -o 'StrictHostKeyChecking no' foobar.txt your_username@remotehost.edu:/some/remote/directory\"\n",
    "        #make sure in the above command that username and hostname are according to your server\n",
    "        var_child = pexpect.spawn(var_command)\n",
    "        i = var_child.expect([\"password:\", pexpect.EOF])\n",
    "\n",
    "        if i==0: # send password                \n",
    "                var_child.sendline(var_password)\n",
    "                var_child.expect(pexpect.EOF)\n",
    "        elif i==1: \n",
    "                print \"Key or connection timeout\"\n",
    "                pass\n",
    "\n",
    " except Exception as e:\n",
    "        print \"Something is not correct\"\n",
    "        print e"
   ]
  },
  {
   "cell_type": "code",
   "execution_count": 18,
   "metadata": {
    "collapsed": true
   },
   "outputs": [],
   "source": [
    "#For references on scp use:- http://www.hypexr.org/linux_scp_help.php\n",
    "#Credit\n",
    "#http://stackoverflow.com/questions/22237486/scp-to-a-remote-server-using-pexpect"
   ]
  }
 ],
 "metadata": {
  "kernelspec": {
   "display_name": "Python 2",
   "language": "python",
   "name": "python2"
  },
  "language_info": {
   "codemirror_mode": {
    "name": "ipython",
    "version": 2
   },
   "file_extension": ".py",
   "mimetype": "text/x-python",
   "name": "python",
   "nbconvert_exporter": "python",
   "pygments_lexer": "ipython2",
   "version": "2.7.11"
  }
 },
 "nbformat": 4,
 "nbformat_minor": 0
}