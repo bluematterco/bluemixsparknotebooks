{
 "cells": [
  {
   "cell_type": "code",
   "execution_count": 17,
   "metadata": {
    "collapsed": false
   },
   "outputs": [
    {
     "data": {
      "text/plain": [
       "u'1.6.0'"
      ]
     },
     "execution_count": 17,
     "metadata": {},
     "output_type": "execute_result"
    }
   ],
   "source": [
    "sc.version"
   ]
  },
  {
   "cell_type": "code",
   "execution_count": 18,
   "metadata": {
    "collapsed": true
   },
   "outputs": [],
   "source": [
    "def set_hadoop_config(credentials):\n",
    "    prefix = \"fs.swift.service.\" + credentials['name'] \n",
    "    hconf = sc._jsc.hadoopConfiguration()\n",
    "    hconf.set(prefix + \".auth.url\", credentials['auth_url']+'/v3/auth/tokens')\n",
    "    hconf.set(prefix + \".auth.endpoint.prefix\", \"endpoints\")\n",
    "    hconf.set(prefix + \".tenant\", credentials['project_id'])\n",
    "    hconf.set(prefix + \".username\", credentials['user_id'])\n",
    "    hconf.set(prefix + \".password\", credentials['password'])\n",
    "    hconf.setInt(prefix + \".http.port\", 8080)\n",
    "    hconf.set(prefix + \".region\", credentials['region'])\n",
    "    hconf.setBoolean(prefix + \".public\", True)"
   ]
  },
  {
   "cell_type": "code",
   "execution_count": null,
   "metadata": {
    "collapsed": true
   },
   "outputs": [],
   "source": [
    "#Download the csv file from\n",
    "# http://spatialkeydocs.s3.amazonaws.com/FL_insurance_sample.csv.zip\n",
    "# Unzip the file and then drop CSV in the Data Sources area."
   ]
  },
  {
   "cell_type": "code",
   "execution_count": null,
   "metadata": {
    "collapsed": true
   },
   "outputs": [],
   "source": [
    "#Drop your file into Object storage and then when you click insert to code you will see below kind of credential \n",
    "#dictionary object added."
   ]
  },
  {
   "cell_type": "code",
   "execution_count": 19,
   "metadata": {
    "collapsed": true
   },
   "outputs": [],
   "source": [
    "objectStorageCreds = {\n",
    "  'auth_uri':'',\n",
    "  'global_account_auth_uri':'',\n",
    "  'username':'Admin_5b8faff871d87700d342130e7cc52e06a7019feb',\n",
    "  'password':\"\"\"XXXXXXXXX\"\"\",\n",
    "  'auth_url':'https://identity.open.softlayer.com',\n",
    "  'project':'object_storage_216c032f_3f57_4763_ae97_5c6a83a0d523',\n",
    "  'project_id':'e097bbd898534ed1ad0e45c82baedb2d',\n",
    "  'region':'dallas',\n",
    "  'user_id':'a493676500794827b020874099c5ee1c',\n",
    "  'domain_id':'da5b6dd1c8374f67b1050172badbef8c',\n",
    "  'domain_name':'837523',\n",
    "  'container':'1464138585443',\n",
    "  'tenantId':'sf58-a0340cf1eaefe8-2c631c8ff999',\n",
    "  'filename':'FL_insurance_sample.csv'\n",
    "}"
   ]
  },
  {
   "cell_type": "code",
   "execution_count": null,
   "metadata": {
    "collapsed": true
   },
   "outputs": [],
   "source": [
    "#Name the credentials anything that you want, just don't use spark word in there."
   ]
  },
  {
   "cell_type": "code",
   "execution_count": 20,
   "metadata": {
    "collapsed": false
   },
   "outputs": [],
   "source": [
    "objectStorageCreds['name'] = 'testcredname'"
   ]
  },
  {
   "cell_type": "code",
   "execution_count": 21,
   "metadata": {
    "collapsed": true
   },
   "outputs": [],
   "source": [
    "set_hadoop_config(objectStorageCreds)"
   ]
  },
  {
   "cell_type": "code",
   "execution_count": 22,
   "metadata": {
    "collapsed": true
   },
   "outputs": [],
   "source": [
    "w_data = sc.textFile(\"swift://\" + objectStorageCreds['container'] + \".\" + objectStorageCreds['name'] + \"/\" + objectStorageCreds['filename'])"
   ]
  },
  {
   "cell_type": "code",
   "execution_count": 23,
   "metadata": {
    "collapsed": false
   },
   "outputs": [
    {
     "name": "stdout",
     "output_type": "stream",
     "text": [
      "36635\n"
     ]
    }
   ],
   "source": [
    "print w_data.count()"
   ]
  },
  {
   "cell_type": "code",
   "execution_count": 26,
   "metadata": {
    "collapsed": false
   },
   "outputs": [],
   "source": [
    "from pyspark.sql import SQLContext\n",
    "sqlContext = SQLContext(sc)"
   ]
  },
  {
   "cell_type": "code",
   "execution_count": 27,
   "metadata": {
    "collapsed": true
   },
   "outputs": [],
   "source": [
    "df = sqlContext.read.format('com.databricks.spark.csv').options(header='true', inferschema='true').load(\"swift://\" + objectStorageCreds['container'] + \".\" + objectStorageCreds['name'] + \"/\" + objectStorageCreds['filename'])"
   ]
  },
  {
   "cell_type": "code",
   "execution_count": 28,
   "metadata": {
    "collapsed": false
   },
   "outputs": [
    {
     "name": "stdout",
     "output_type": "stream",
     "text": [
      "root\n",
      " |-- policyID: integer (nullable = true)\n",
      " |-- statecode: string (nullable = true)\n",
      " |-- county: string (nullable = true)\n",
      " |-- eq_site_limit: double (nullable = true)\n",
      " |-- hu_site_limit: double (nullable = true)\n",
      " |-- fl_site_limit: double (nullable = true)\n",
      " |-- fr_site_limit: double (nullable = true)\n",
      " |-- tiv_2011: double (nullable = true)\n",
      " |-- tiv_2012: double (nullable = true)\n",
      " |-- eq_site_deductible: double (nullable = true)\n",
      " |-- hu_site_deductible: double (nullable = true)\n",
      " |-- fl_site_deductible: double (nullable = true)\n",
      " |-- fr_site_deductible: integer (nullable = true)\n",
      " |-- point_latitude: double (nullable = true)\n",
      " |-- point_longitude: double (nullable = true)\n",
      " |-- line: string (nullable = true)\n",
      " |-- construction: string (nullable = true)\n",
      " |-- point_granularity: integer (nullable = true)\n",
      "\n"
     ]
    }
   ],
   "source": [
    "df.printSchema()"
   ]
  },
  {
   "cell_type": "code",
   "execution_count": 29,
   "metadata": {
    "collapsed": true
   },
   "outputs": [],
   "source": [
    "outputfilename=\"filteredResidential.csv\""
   ]
  },
  {
   "cell_type": "code",
   "execution_count": 35,
   "metadata": {
    "collapsed": false
   },
   "outputs": [],
   "source": [
    "df.filter(df['line']=='Residential').write.save(\"swift://\" + objectStorageCreds['container'] + \".\" + objectStorageCreds['name'] + \"/\" + outputfilename)"
   ]
  },
  {
   "cell_type": "code",
   "execution_count": null,
   "metadata": {
    "collapsed": true
   },
   "outputs": [],
   "source": []
  }
 ],
 "metadata": {
  "kernelspec": {
   "display_name": "Python 2",
   "language": "python",
   "name": "python2"
  },
  "language_info": {
   "codemirror_mode": {
    "name": "ipython",
    "version": 2
   },
   "file_extension": ".py",
   "mimetype": "text/x-python",
   "name": "python",
   "nbconvert_exporter": "python",
   "pygments_lexer": "ipython2",
   "version": "2.7.11"
  }
 },
 "nbformat": 4,
 "nbformat_minor": 0
}