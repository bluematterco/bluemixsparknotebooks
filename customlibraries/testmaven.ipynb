{
    "nbformat": 4, 
    "cells": [
        {
            "source": "!wget http://mirror.olnevhost.net/pub/apache/maven/binaries/apache-maven-3.2.1-bin.tar.gz", 
            "execution_count": 2, 
            "cell_type": "code", 
            "metadata": {
                "collapsed": false
            }, 
            "outputs": [
                {
                    "output_type": "stream", 
                    "name": "stdout", 
                    "text": "--2017-06-19 17:15:46--  http://mirror.olnevhost.net/pub/apache/maven/binaries/apache-maven-3.2.1-bin.tar.gz\nResolving mirror.olnevhost.net (mirror.olnevhost.net)... 188.165.227.148\nConnecting to mirror.olnevhost.net (mirror.olnevhost.net)|188.165.227.148|:80... connected.\nHTTP request sent, awaiting response... 200 OK\nLength: 6927918 (6.6M) [application/x-gzip]\nSaving to: \u2018apache-maven-3.2.1-bin.tar.gz\u2019\n\n100%[======================================>] 6,927,918   3.52MB/s   in 1.9s   \n\n2017-06-19 17:15:48 (3.52 MB/s) - \u2018apache-maven-3.2.1-bin.tar.gz\u2019 saved [6927918/6927918]\n\n"
                }
            ]
        }, 
        {
            "source": "!tar xvf apache-maven-3.2.1-bin.tar.gz", 
            "execution_count": 3, 
            "cell_type": "code", 
            "metadata": {
                "collapsed": false
            }, 
            "outputs": [
                {
                    "output_type": "stream", 
                    "name": "stdout", 
                    "text": "apache-maven-3.2.1/boot/plexus-classworlds-2.5.1.jar\napache-maven-3.2.1/lib/maven-embedder-3.2.1.jar\napache-maven-3.2.1/lib/maven-settings-3.2.1.jar\napache-maven-3.2.1/lib/plexus-utils-3.0.17.jar\napache-maven-3.2.1/lib/maven-core-3.2.1.jar\napache-maven-3.2.1/lib/maven-model-3.2.1.jar\napache-maven-3.2.1/lib/maven-settings-builder-3.2.1.jar\napache-maven-3.2.1/lib/plexus-interpolation-1.19.jar\napache-maven-3.2.1/lib/plexus-component-annotations-1.5.5.jar\napache-maven-3.2.1/lib/plexus-sec-dispatcher-1.3.jar\napache-maven-3.2.1/lib/plexus-cipher-1.7.jar\napache-maven-3.2.1/lib/maven-repository-metadata-3.2.1.jar\napache-maven-3.2.1/lib/maven-artifact-3.2.1.jar\napache-maven-3.2.1/lib/maven-plugin-api-3.2.1.jar\napache-maven-3.2.1/lib/org.eclipse.sisu.plexus-0.0.0.M5.jar\napache-maven-3.2.1/lib/cdi-api-1.0.jar\napache-maven-3.2.1/lib/jsr250-api-1.0.jar\napache-maven-3.2.1/lib/javax.inject-1.jar\napache-maven-3.2.1/lib/guava-14.0.1.jar\napache-maven-3.2.1/lib/sisu-guice-3.1.3-no_aop.jar\napache-maven-3.2.1/lib/aopalliance-1.0.jar\napache-maven-3.2.1/lib/org.eclipse.sisu.inject-0.0.0.M5.jar\napache-maven-3.2.1/lib/maven-model-builder-3.2.1.jar\napache-maven-3.2.1/lib/maven-aether-provider-3.2.1.jar\napache-maven-3.2.1/lib/aether-api-0.9.0.M2.jar\napache-maven-3.2.1/lib/aether-spi-0.9.0.M2.jar\napache-maven-3.2.1/lib/aether-util-0.9.0.M2.jar\napache-maven-3.2.1/lib/aether-impl-0.9.0.M2.jar\napache-maven-3.2.1/lib/maven-compat-3.2.1.jar\napache-maven-3.2.1/lib/wagon-provider-api-2.6.jar\napache-maven-3.2.1/lib/slf4j-api-1.7.5.jar\napache-maven-3.2.1/lib/commons-cli-1.2.jar\napache-maven-3.2.1/lib/wagon-http-2.6-shaded.jar\napache-maven-3.2.1/lib/wagon-http-shared-2.6.jar\napache-maven-3.2.1/lib/jsoup-1.7.2.jar\napache-maven-3.2.1/lib/commons-lang-2.6.jar\napache-maven-3.2.1/lib/commons-io-2.2.jar\napache-maven-3.2.1/lib/wagon-file-2.6.jar\napache-maven-3.2.1/lib/aether-connector-wagon-0.9.0.M2.jar\napache-maven-3.2.1/lib/slf4j-simple-1.7.5.jar\napache-maven-3.2.1/README.txt\napache-maven-3.2.1/LICENSE\napache-maven-3.2.1/NOTICE\napache-maven-3.2.1/lib/\napache-maven-3.2.1/lib/aether-api.license\napache-maven-3.2.1/lib/aether-connector-wagon.license\napache-maven-3.2.1/lib/aether-impl.license\napache-maven-3.2.1/lib/aether-spi.license\napache-maven-3.2.1/lib/aether-util.license\napache-maven-3.2.1/lib/cdi-api.license\napache-maven-3.2.1/lib/jsoup.license\napache-maven-3.2.1/lib/jsr250-api.license\napache-maven-3.2.1/lib/org.eclipse.sisu.inject.license\napache-maven-3.2.1/lib/org.eclipse.sisu.plexus.license\napache-maven-3.2.1/lib/plexus-cipher.license\napache-maven-3.2.1/lib/plexus-sec-dispatcher.license\napache-maven-3.2.1/lib/slf4j-api.license\napache-maven-3.2.1/lib/slf4j-simple.license\napache-maven-3.2.1/bin/m2.conf\napache-maven-3.2.1/bin/mvn.bat\napache-maven-3.2.1/bin/mvnDebug.bat\napache-maven-3.2.1/bin/mvn\napache-maven-3.2.1/bin/mvnDebug\napache-maven-3.2.1/bin/mvnyjp\napache-maven-3.2.1/conf/\napache-maven-3.2.1/conf/logging/\napache-maven-3.2.1/conf/logging/simplelogger.properties\napache-maven-3.2.1/conf/settings.xml\napache-maven-3.2.1/lib/ext/\napache-maven-3.2.1/lib/ext/README.txt\n"
                }
            ]
        }, 
        {
            "source": "import os", 
            "execution_count": 6, 
            "cell_type": "code", 
            "metadata": {
                "collapsed": true
            }, 
            "outputs": []
        }, 
        {
            "source": "os.environ[\"M2_HOME\"]='/gpfs/fs01/user/s4b6-d33cda4c5aa2e8-2c631c8ff999/notebook/work/apache-maven-3.2.1'", 
            "execution_count": 19, 
            "cell_type": "code", 
            "metadata": {
                "collapsed": false
            }, 
            "outputs": []
        }, 
        {
            "source": "!echo $M2_HOME", 
            "execution_count": 20, 
            "cell_type": "code", 
            "metadata": {
                "collapsed": false
            }, 
            "outputs": [
                {
                    "output_type": "stream", 
                    "name": "stdout", 
                    "text": "/gpfs/fs01/user/s4b6-d33cda4c5aa2e8-2c631c8ff999/notebook/work/apache-maven-3.2.1\r\n"
                }
            ]
        }, 
        {
            "source": "os.environ[\"M2\"]='/gpfs/fs01/user/s4b6-d33cda4c5aa2e8-2c631c8ff999/notebook/work/apache-maven-3.2.1/bin'", 
            "execution_count": 21, 
            "cell_type": "code", 
            "metadata": {
                "collapsed": false
            }, 
            "outputs": []
        }, 
        {
            "source": "!echo $M2", 
            "execution_count": 22, 
            "cell_type": "code", 
            "metadata": {
                "collapsed": false
            }, 
            "outputs": [
                {
                    "output_type": "stream", 
                    "name": "stdout", 
                    "text": "/gpfs/fs01/user/s4b6-d33cda4c5aa2e8-2c631c8ff999/notebook/work/apache-maven-3.2.1/bin\r\n"
                }
            ]
        }, 
        {
            "source": "os.environ[\"PATH\"]=os.environ[\"M2\"]+\":\"+os.environ[\"PATH\"]", 
            "execution_count": 23, 
            "cell_type": "code", 
            "metadata": {
                "collapsed": false
            }, 
            "outputs": []
        }, 
        {
            "source": "!/usr/local/apache-maven/apache-maven-3.2.1/bin/maven", 
            "execution_count": 17, 
            "cell_type": "code", 
            "metadata": {
                "collapsed": false
            }, 
            "outputs": [
                {
                    "output_type": "stream", 
                    "name": "stdout", 
                    "text": "/bin/sh: /usr/local/apache-maven/apache-maven-3.2.1/bin/maven: No such file or directory\r\n"
                }
            ]
        }, 
        {
            "source": "!mvn -version", 
            "execution_count": 24, 
            "cell_type": "code", 
            "metadata": {
                "collapsed": false
            }, 
            "outputs": [
                {
                    "output_type": "stream", 
                    "name": "stdout", 
                    "text": "Apache Maven 3.2.1 (ea8b2b07643dbb1b84b6d16e1f08391b666bc1e9; 2014-02-14T11:37:52-06:00)\r\nMaven home: /gpfs/fs01/user/s4b6-d33cda4c5aa2e8-2c631c8ff999/notebook/work/apache-maven-3.2.1\r\nJava version: 1.8.0, vendor: IBM Corporation\r\nJava home: /usr/local/src/spark20master/ibm-java-x86_64-80/jre\r\nDefault locale: en_US, platform encoding: UTF-8\r\nOS name: \"linux\", version: \"3.10.0-514.21.1.el7.x86_64\", arch: \"amd64\", family: \"unix\"\r\n"
                }
            ]
        }, 
        {
            "source": "", 
            "execution_count": null, 
            "cell_type": "code", 
            "metadata": {
                "collapsed": true
            }, 
            "outputs": []
        }
    ], 
    "metadata": {
        "language_info": {
            "pygments_lexer": "ipython2", 
            "version": "2.7.11", 
            "mimetype": "text/x-python", 
            "name": "python", 
            "nbconvert_exporter": "python", 
            "file_extension": ".py", 
            "codemirror_mode": {
                "version": 2, 
                "name": "ipython"
            }
        }, 
        "kernelspec": {
            "language": "python", 
            "display_name": "Python 2 with Spark 2.0", 
            "name": "python2-spark20"
        }
    }, 
    "nbformat_minor": 0
}