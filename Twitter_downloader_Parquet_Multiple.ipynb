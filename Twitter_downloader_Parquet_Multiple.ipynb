{
 "cells": [
  {
   "cell_type": "code",
   "execution_count": 1,
   "metadata": {
    "collapsed": false,
    "scrolled": false
   },
   "outputs": [
    {
     "name": "stdout",
     "output_type": "stream",
     "text": [
      "Using cached version of streaming-twitter-assembly-1.4.jar\n"
     ]
    }
   ],
   "source": [
    "%Addjar https://github.com/ibm-cds-labs/spark.samples/raw/master/dist/streaming-twitter-assembly-1.4.jar"
   ]
  },
  {
   "cell_type": "code",
   "execution_count": 2,
   "metadata": {
    "collapsed": true
   },
   "outputs": [],
   "source": [
    "import org.apache.spark.sql.SQLContext"
   ]
  },
  {
   "cell_type": "code",
   "execution_count": 3,
   "metadata": {
    "collapsed": true
   },
   "outputs": [],
   "source": [
    "val sqlContext = new SQLContext(sc)"
   ]
  },
  {
   "cell_type": "code",
   "execution_count": 4,
   "metadata": {
    "collapsed": true
   },
   "outputs": [],
   "source": [
    "import org.apache.spark.storage.StorageLevel"
   ]
  },
  {
   "cell_type": "code",
   "execution_count": 5,
   "metadata": {
    "collapsed": false
   },
   "outputs": [],
   "source": [
    "val tweets = sqlContext.read.json(\"swift://ActorsFeb.spark/\")"
   ]
  },
  {
   "cell_type": "code",
   "execution_count": 6,
   "metadata": {
    "collapsed": false
   },
   "outputs": [],
   "source": [
    "val flattened = tweets.select(\"tweets.message.body\").explode(\"body\", \"bo\"){c: scala.collection.mutable.WrappedArray[String] => c}"
   ]
  },
  {
   "cell_type": "code",
   "execution_count": 7,
   "metadata": {
    "collapsed": false
   },
   "outputs": [],
   "source": [
    "val alltweets = flattened.select(\"bo\").collect()"
   ]
  },
  {
   "cell_type": "code",
   "execution_count": 8,
   "metadata": {
    "collapsed": true
   },
   "outputs": [],
   "source": [
    "import com.ibm.cds.spark.samples._"
   ]
  },
  {
   "cell_type": "code",
   "execution_count": 9,
   "metadata": {
    "collapsed": false
   },
   "outputs": [],
   "source": [
    "val tweetList_StatusAdapter = sc.parallelize(alltweets.map(tweet => new com.ibm.cds.spark.samples.StatusAdapter(\"\",\"\",\"\",tweet.getString(0),0.0,0.0) ))"
   ]
  },
  {
   "cell_type": "code",
   "execution_count": 10,
   "metadata": {
    "collapsed": true
   },
   "outputs": [],
   "source": [
    "import com.google.common.base.CharMatcher"
   ]
  },
  {
   "cell_type": "code",
   "execution_count": 11,
   "metadata": {
    "collapsed": true
   },
   "outputs": [],
   "source": [
    "import org.apache.spark.sql.SQLContext\n",
    "import org.apache.spark.sql.types._\n",
    "import com.ibm.cds.spark.samples._\n",
    "import org.apache.spark.sql.Row"
   ]
  },
  {
   "cell_type": "code",
   "execution_count": 12,
   "metadata": {
    "collapsed": false
   },
   "outputs": [],
   "source": [
    "var schemaTweets : StructType = null\n",
    "  if ( schemaTweets == null ){\n",
    "    val schemaString = \"author date lang:double text lat:double long:double\"\n",
    "    schemaTweets =\n",
    "      StructType(\n",
    "        schemaString.split(\" \").map(\n",
    "          fieldName => {\n",
    "            val ar = fieldName.split(\":\")\n",
    "            StructField(\n",
    "                ar.lift(0).get, \n",
    "                ar.lift(1).getOrElse(\"string\") match{\n",
    "                  case \"int\" => IntegerType\n",
    "                  case \"double\" => DoubleType\n",
    "                  case _ => StringType\n",
    "                },\n",
    "                true)\n",
    "          }\n",
    "        ).union( \n",
    "            ToneAnalyzer.sentimentFactors.map( f => StructField( f._1, DoubleType )).toArray[StructField]\n",
    "        )\n",
    "      )\n",
    "  }"
   ]
  },
  {
   "cell_type": "code",
   "execution_count": 13,
   "metadata": {
    "collapsed": true
   },
   "outputs": [],
   "source": [
    "import com.ibm.cds.spark.samples.config.DemoConfig\n",
    "import org.http4s.client.blaze.PooledHttp1Client\n",
    "import org.apache.spark.sql.Row"
   ]
  },
  {
   "cell_type": "code",
   "execution_count": 14,
   "metadata": {
    "collapsed": true
   },
   "outputs": [],
   "source": [
    "val config1 = new DemoConfig\n",
    "val keys = config1.getConfig(\"tweets.key\").split(\",\");\n",
    " //Tone Analyzer service credential copied from section above\n",
    "    config1.setConfig(\"watson.tone.url\",\"https://gateway.watsonplatform.net/tone-analyzer-experimental/api\")\n",
    "    config1.setConfig(\"watson.tone.password\",\"xxxxxx\")\n",
    "    config1.setConfig(\"watson.tone.username\",\"xxxxxxx\")"
   ]
  },
  {
   "cell_type": "code",
   "execution_count": 15,
   "metadata": {
    "collapsed": true
   },
   "outputs": [],
   "source": [
    " val broadcastVar = sc.broadcast(config1.toImmutableMap)"
   ]
  },
  {
   "cell_type": "code",
   "execution_count": 16,
   "metadata": {
    "collapsed": true
   },
   "outputs": [],
   "source": [
    "import scala.collection.mutable._"
   ]
  },
  {
   "cell_type": "code",
   "execution_count": 17,
   "metadata": {
    "collapsed": false
   },
   "outputs": [],
   "source": [
    "   val rowTweets = tweetList_StatusAdapter.map(status => {\n",
    "    lazy val client = PooledHttp1Client()\n",
    "    val sentiment = ToneAnalyzer.computeSentiment( client, status, broadcastVar )\n",
    "\n",
    "    var colValues = Array[Any](\n",
    "      \"\", //author\n",
    "      \"\",   //date\n",
    "      0.0,  //Lang\n",
    "      status.text,               //text\n",
    "      0.0,      //lat\n",
    "      0.0    //long\n",
    "      //exception\n",
    "    )\n",
    "\n",
    "    var scoreMap : Map[String, Double] = Map()\n",
    "    if ( sentiment != null ){\n",
    "      for ( tone <- Option( sentiment.children ).getOrElse( Seq() ) ){\n",
    "        for ( result <- Option( tone.children ).getOrElse( Seq() ) ){\n",
    "          scoreMap.put( result.id, result.normalized_score )\n",
    "        }\n",
    "      }\n",
    "    }\n",
    "\n",
    "    colValues = colValues ++ ToneAnalyzer.sentimentFactors.map { f => (BigDecimal(scoreMap.get(f._2).getOrElse(0.0)).setScale(2, BigDecimal.RoundingMode.HALF_UP).toDouble) * 100.0  }\n",
    "    //Return [Row, (sentiment, status)]\n",
    "    (Row(colValues.toArray:_*),(sentiment, status))\n",
    "  })"
   ]
  },
  {
   "cell_type": "code",
   "execution_count": 18,
   "metadata": {
    "collapsed": false
   },
   "outputs": [],
   "source": [
    "val workingRDD = rowTweets.map{rdd => rdd._1}"
   ]
  },
  {
   "cell_type": "code",
   "execution_count": 19,
   "metadata": {
    "collapsed": false,
    "scrolled": true
   },
   "outputs": [],
   "source": [
    "//workingRDD.persist(StorageLevel.DISK_ONLY)"
   ]
  },
  {
   "cell_type": "code",
   "execution_count": 20,
   "metadata": {
    "collapsed": false
   },
   "outputs": [],
   "source": [
    "    try{\n",
    "      val df = sqlContext.createDataFrame( workingRDD, schemaTweets )\n",
    "      df.registerTempTable(\"tweets\")\n",
    "      df.printSchema()\n",
    "      \n",
    "    }catch{\n",
    "      case e: Exception => {e.printStackTrace();}\n",
    "    }"
   ]
  },
  {
   "cell_type": "code",
   "execution_count": 21,
   "metadata": {
    "collapsed": false
   },
   "outputs": [],
   "source": [
    "val fullSet = sqlContext.sql(\"select * from tweets\")"
   ]
  },
  {
   "cell_type": "code",
   "execution_count": 26,
   "metadata": {
    "collapsed": false
   },
   "outputs": [
    {
     "name": "stdout",
     "output_type": "stream",
     "text": [
      "root\n",
      " |-- author: string (nullable = true)\n",
      " |-- date: string (nullable = true)\n",
      " |-- lang: double (nullable = true)\n",
      " |-- text: string (nullable = true)\n",
      " |-- lat: double (nullable = true)\n",
      " |-- long: double (nullable = true)\n",
      " |-- Cheerfulness: double (nullable = true)\n",
      " |-- Negative: double (nullable = true)\n",
      " |-- Anger: double (nullable = true)\n",
      " |-- Analytical: double (nullable = true)\n",
      " |-- Confident: double (nullable = true)\n",
      " |-- Tentative: double (nullable = true)\n",
      " |-- Openness: double (nullable = true)\n",
      " |-- Agreeableness: double (nullable = true)\n",
      " |-- Conscientiousness: double (nullable = true)\n",
      "\n"
     ]
    }
   ],
   "source": [
    "fullSet.printSchema()"
   ]
  },
  {
   "cell_type": "code",
   "execution_count": null,
   "metadata": {
    "collapsed": false,
    "scrolled": true
   },
   "outputs": [],
   "source": [
    "fullSet.repartition(1).saveAsParquetFile(\"swift://hivecontainer.spark/tweetsActorsLoad12K5.parquet\")"
   ]
  },
  {
   "cell_type": "code",
   "execution_count": 23,
   "metadata": {
    "collapsed": false
   },
   "outputs": [
    {
     "name": "stdout",
     "output_type": "stream",
     "text": [
      "1.6.0"
     ]
    }
   ],
   "source": [
    "print(sc.version)"
   ]
  },
  {
   "cell_type": "code",
   "execution_count": null,
   "metadata": {
    "collapsed": true
   },
   "outputs": [],
   "source": []
  }
 ],
 "metadata": {
  "kernelspec": {
   "display_name": "Scala 2.10",
   "language": "scala",
   "name": "spark"
  },
  "language_info": {
   "name": "scala"
  }
 },
 "nbformat": 4,
 "nbformat_minor": 0
}