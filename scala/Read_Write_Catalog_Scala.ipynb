{
    "nbformat_minor": 0, 
    "nbformat": 4, 
    "cells": [
        {
            "source": "//Go to Project Settings and create access token and then clear next cell and \n//click insert project token from those 3 dots above in notebook and \n//you will see code generated as below", 
            "execution_count": null, 
            "metadata": {
                "collapsed": true
            }, 
            "cell_type": "code", 
            "outputs": []
        }, 
        {
            "source": "// The code was removed by DSX for sharing.", 
            "execution_count": 5, 
            "metadata": {
                "collapsed": true
            }, 
            "cell_type": "code", 
            "outputs": []
        }, 
        {
            "source": "val fileList = ProjectUtil.listAvailableFilesData(pc)\nfileList.indices.foreach( i => println(i + \": \" + fileList(i)))", 
            "execution_count": 7, 
            "metadata": {
                "collapsed": false
            }, 
            "cell_type": "code", 
            "outputs": [
                {
                    "name": "stdout", 
                    "text": "0: name = \"movie_dataset_UK.csv\", type = \"Datalake File\"\n1: name = \"co2.csv\", type = \"Datalake File\"\n", 
                    "output_type": "stream"
                }
            ]
        }, 
        {
            "source": "val df = ProjectUtil.loadDataFrameFromFile(pc, fileList(1))", 
            "execution_count": 9, 
            "metadata": {
                "collapsed": false
            }, 
            "cell_type": "code", 
            "outputs": [
                {
                    "name": "stdout", 
                    "text": "Creating DataFrame, this will take a few moments...\nDataFrame created.\n", 
                    "output_type": "stream"
                }
            ]
        }, 
        {
            "source": "df.show()", 
            "execution_count": 10, 
            "metadata": {
                "collapsed": false
            }, 
            "cell_type": "code", 
            "outputs": [
                {
                    "name": "stdout", 
                    "text": "+--------------------+----+-----+\n|      CO2 per capita|Year|value|\n+--------------------+----+-----+\n|            Abkhazia|1751| null|\n|         Afghanistan|1751| null|\n|Akrotiri and Dhek...|1751| null|\n|             Albania|1751| null|\n|             Algeria|1751| null|\n|      American Samoa|1751| null|\n|             Andorra|1751| null|\n|              Angola|1751| null|\n|            Anguilla|1751| null|\n| Antigua and Barbuda|1751| null|\n|           Argentina|1751| null|\n|             Armenia|1751| null|\n|               Aruba|1751| null|\n|           Australia|1751| null|\n|             Austria|1751| null|\n|          Azerbaijan|1751| null|\n|             Bahamas|1751| null|\n|             Bahrain|1751| null|\n|          Bangladesh|1751| null|\n|            Barbados|1751| null|\n+--------------------+----+-----+\nonly showing top 20 rows\n\n", 
                    "output_type": "stream"
                }
            ]
        }, 
        {
            "source": "//You can directly use the name of the file as second argument", 
            "execution_count": null, 
            "metadata": {
                "collapsed": true
            }, 
            "cell_type": "code", 
            "outputs": []
        }, 
        {
            "source": "val df1 = ProjectUtil.loadDataFrameFromFile(pc, \"co2.csv\")", 
            "execution_count": 11, 
            "metadata": {
                "collapsed": false
            }, 
            "cell_type": "code", 
            "outputs": [
                {
                    "name": "stdout", 
                    "text": "Creating DataFrame, this will take a few moments...\nDataFrame created.\n", 
                    "output_type": "stream"
                }
            ]
        }, 
        {
            "source": "df1.show()", 
            "execution_count": 12, 
            "metadata": {
                "collapsed": false
            }, 
            "cell_type": "code", 
            "outputs": [
                {
                    "name": "stdout", 
                    "text": "+--------------------+----+-----+\n|      CO2 per capita|Year|value|\n+--------------------+----+-----+\n|            Abkhazia|1751| null|\n|         Afghanistan|1751| null|\n|Akrotiri and Dhek...|1751| null|\n|             Albania|1751| null|\n|             Algeria|1751| null|\n|      American Samoa|1751| null|\n|             Andorra|1751| null|\n|              Angola|1751| null|\n|            Anguilla|1751| null|\n| Antigua and Barbuda|1751| null|\n|           Argentina|1751| null|\n|             Armenia|1751| null|\n|               Aruba|1751| null|\n|           Australia|1751| null|\n|             Austria|1751| null|\n|          Azerbaijan|1751| null|\n|             Bahamas|1751| null|\n|             Bahrain|1751| null|\n|          Bangladesh|1751| null|\n|            Barbados|1751| null|\n+--------------------+----+-----+\nonly showing top 20 rows\n\n", 
                    "output_type": "stream"
                }
            ]
        }, 
        {
            "source": "", 
            "execution_count": null, 
            "metadata": {
                "collapsed": true
            }, 
            "cell_type": "code", 
            "outputs": []
        }
    ], 
    "metadata": {
        "kernelspec": {
            "name": "scala-spark20", 
            "language": "scala", 
            "display_name": "Scala 2.11 with Spark 2.0"
        }, 
        "language_info": {
            "name": "scala", 
            "pygments_lexer": "scala", 
            "codemirror_mode": "text/x-scala", 
            "mimetype": "text/x-scala", 
            "file_extension": ".scala", 
            "version": "2.11.8"
        }
    }
}