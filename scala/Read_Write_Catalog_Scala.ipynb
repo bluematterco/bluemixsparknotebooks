{
    "metadata": {
        "language_info": {
            "codemirror_mode": "text/x-scala", 
            "file_extension": ".scala", 
            "mimetype": "text/x-scala", 
            "version": "2.11.8", 
            "pygments_lexer": "scala", 
            "name": "scala"
        }, 
        "kernelspec": {
            "display_name": "Scala 2.11 with Spark 2.0", 
            "language": "scala", 
            "name": "scala-spark20"
        }
    }, 
    "cells": [
        {
            "outputs": [], 
            "cell_type": "code", 
            "source": "//Go to Project Settings and create access token and then clear next cell and \n//click insert project token from those 3 dots above in notebook and \n//you will see code generated as below", 
            "execution_count": null, 
            "metadata": {
                "collapsed": true
            }
        }, 
        {
            "outputs": [], 
            "cell_type": "code", 
            "source": "// @hidden_cell\n// The project token is an authorization token that is used to access project resources like data sources, connections, and used by platform APIs.\nimport com.ibm.analytics.projectNotebookIntegration._\nval pc = ProjectUtil.newProjectContext(sc, \"994b03fa-e6f8-497b-8671-5552f6b9a5c7\", \"p-7e324a91256d76ba81b7d434a88df56522a0fd69\")", 
            "execution_count": 5, 
            "metadata": {
                "collapsed": true
            }
        }, 
        {
            "outputs": [
                {
                    "output_type": "stream", 
                    "text": "0: name = \"movie_dataset_UK.csv\", type = \"Datalake File\"\n1: name = \"co2.csv\", type = \"Datalake File\"\n", 
                    "name": "stdout"
                }
            ], 
            "cell_type": "code", 
            "source": "val fileList = ProjectUtil.listAvailableFilesData(pc)\nfileList.indices.foreach( i => println(i + \": \" + fileList(i)))", 
            "execution_count": 7, 
            "metadata": {
                "collapsed": false
            }
        }, 
        {
            "outputs": [
                {
                    "output_type": "stream", 
                    "text": "Creating DataFrame, this will take a few moments...\nDataFrame created.\n", 
                    "name": "stdout"
                }
            ], 
            "cell_type": "code", 
            "source": "val df = ProjectUtil.loadDataFrameFromFile(pc, fileList(1))", 
            "execution_count": 9, 
            "metadata": {
                "collapsed": false
            }
        }, 
        {
            "outputs": [
                {
                    "output_type": "stream", 
                    "text": "+--------------------+----+-----+\n|      CO2 per capita|Year|value|\n+--------------------+----+-----+\n|            Abkhazia|1751| null|\n|         Afghanistan|1751| null|\n|Akrotiri and Dhek...|1751| null|\n|             Albania|1751| null|\n|             Algeria|1751| null|\n|      American Samoa|1751| null|\n|             Andorra|1751| null|\n|              Angola|1751| null|\n|            Anguilla|1751| null|\n| Antigua and Barbuda|1751| null|\n|           Argentina|1751| null|\n|             Armenia|1751| null|\n|               Aruba|1751| null|\n|           Australia|1751| null|\n|             Austria|1751| null|\n|          Azerbaijan|1751| null|\n|             Bahamas|1751| null|\n|             Bahrain|1751| null|\n|          Bangladesh|1751| null|\n|            Barbados|1751| null|\n+--------------------+----+-----+\nonly showing top 20 rows\n\n", 
                    "name": "stdout"
                }
            ], 
            "cell_type": "code", 
            "source": "df.show()", 
            "execution_count": 10, 
            "metadata": {
                "collapsed": false
            }
        }, 
        {
            "outputs": [], 
            "cell_type": "code", 
            "source": "//You can directly use the name of the file as second argument", 
            "execution_count": null, 
            "metadata": {
                "collapsed": true
            }
        }, 
        {
            "outputs": [
                {
                    "output_type": "stream", 
                    "text": "Creating DataFrame, this will take a few moments...\nDataFrame created.\n", 
                    "name": "stdout"
                }
            ], 
            "cell_type": "code", 
            "source": "val df1 = ProjectUtil.loadDataFrameFromFile(pc, \"co2.csv\")", 
            "execution_count": 11, 
            "metadata": {
                "collapsed": false
            }
        }, 
        {
            "outputs": [
                {
                    "output_type": "stream", 
                    "text": "+--------------------+----+-----+\n|      CO2 per capita|Year|value|\n+--------------------+----+-----+\n|            Abkhazia|1751| null|\n|         Afghanistan|1751| null|\n|Akrotiri and Dhek...|1751| null|\n|             Albania|1751| null|\n|             Algeria|1751| null|\n|      American Samoa|1751| null|\n|             Andorra|1751| null|\n|              Angola|1751| null|\n|            Anguilla|1751| null|\n| Antigua and Barbuda|1751| null|\n|           Argentina|1751| null|\n|             Armenia|1751| null|\n|               Aruba|1751| null|\n|           Australia|1751| null|\n|             Austria|1751| null|\n|          Azerbaijan|1751| null|\n|             Bahamas|1751| null|\n|             Bahrain|1751| null|\n|          Bangladesh|1751| null|\n|            Barbados|1751| null|\n+--------------------+----+-----+\nonly showing top 20 rows\n\n", 
                    "name": "stdout"
                }
            ], 
            "cell_type": "code", 
            "source": "df1.show()", 
            "execution_count": 12, 
            "metadata": {
                "collapsed": false
            }
        }, 
        {
            "outputs": [], 
            "cell_type": "code", 
            "source": "", 
            "execution_count": null, 
            "metadata": {
                "collapsed": true
            }
        }
    ], 
    "nbformat": 4, 
    "nbformat_minor": 0
}