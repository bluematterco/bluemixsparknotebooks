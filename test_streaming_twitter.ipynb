{
 "cells": [
  {
   "cell_type": "code",
   "execution_count": 3,
   "metadata": {
    "collapsed": false,
    "scrolled": true
   },
   "outputs": [
    {
     "name": "stdout",
     "output_type": "stream",
     "text": [
      "Starting download from https://github.com/ibm-cds-labs/spark.samples/raw/master/dist/streaming-twitter-assembly-1.2.jar\n",
      "Finished download of streaming-twitter-assembly-1.2.jar\n"
     ]
    }
   ],
   "source": [
    "%Addjar -f https://github.com/ibm-cds-labs/spark.samples/raw/master/dist/streaming-twitter-assembly-1.2.jar"
   ]
  },
  {
   "cell_type": "code",
   "execution_count": 4,
   "metadata": {
    "collapsed": true
   },
   "outputs": [],
   "source": [
    "val demo = com.ibm.cds.spark.samples.StreamingTwitter //Shorter handle \n",
    "    //Twitter OAuth params from section above\n",
    "    demo.setConfig(\"twitter4j.oauth.consumerKey\",\"xxxxxxx\")\n",
    "    demo.setConfig(\"twitter4j.oauth.consumerSecret\",\"xxxxxxxx\")\n",
    "    demo.setConfig(\"twitter4j.oauth.accessToken\",\"xxxxxx\")\n",
    "    demo.setConfig(\"twitter4j.oauth.accessTokenSecret\",\"xxxxx\")\n",
    "    //Tone Analyzer service credential copied from section above\n",
    "    demo.setConfig(\"watson.tone.url\",\"https://gateway.watsonplatform.net/tone-analyzer-experimental/api\")\n",
    "    demo.setConfig(\"watson.tone.password\",\"xxxxx\")\n",
    "    demo.setConfig(\"watson.tone.username\",\"xxxxxx\")"
   ]
  },
  {
   "cell_type": "code",
   "execution_count": 5,
   "metadata": {
    "collapsed": false
   },
   "outputs": [],
   "source": [
    "import org.apache.spark.streaming._"
   ]
  },
  {
   "cell_type": "code",
   "execution_count": 6,
   "metadata": {
    "collapsed": false
   },
   "outputs": [
    {
     "name": "stdout",
     "output_type": "stream",
     "text": [
      "Twitter stream started\n",
      "Tweets are collected real-time and analyzed\n",
      "To stop the streaming and start interacting with the data use: StreamingTwitter.stopTwitterStreaming\n",
      "Stopping Twitter stream. Please wait this may take a while\n",
      "Twitter stream stopped\n",
      "You can now create a sqlContext and DataFrame with 618 Tweets created. Sample usage: \n",
      "val (sqlContext, df) = com.ibm.cds.spark.samples.StreamingTwitter.createTwitterDataFrames(sc)\n",
      "df.printSchema\n",
      "sqlContext.sql(\"select author, text from tweets\").show\n"
     ]
    }
   ],
   "source": [
    "demo.startTwitterStreaming(sc, Seconds(60))"
   ]
  },
  {
   "cell_type": "code",
   "execution_count": 7,
   "metadata": {
    "collapsed": false
   },
   "outputs": [
    {
     "name": "stdout",
     "output_type": "stream",
     "text": [
      "A new table named tweets with 618 records has been correctly created and can be accessed through the SQLContext variable\n",
      "Here's the schema for tweets\n",
      "root\n",
      " |-- author: string (nullable = true)\n",
      " |-- date: string (nullable = true)\n",
      " |-- lang: string (nullable = true)\n",
      " |-- text: string (nullable = true)\n",
      " |-- lat: double (nullable = true)\n",
      " |-- long: double (nullable = true)\n",
      " |-- Cheerfulness: double (nullable = true)\n",
      " |-- Negative: double (nullable = true)\n",
      " |-- Anger: double (nullable = true)\n",
      " |-- Analytical: double (nullable = true)\n",
      " |-- Confident: double (nullable = true)\n",
      " |-- Tentative: double (nullable = true)\n",
      " |-- Openness: double (nullable = true)\n",
      " |-- Agreeableness: double (nullable = true)\n",
      " |-- Conscientiousness: double (nullable = true)\n",
      "\n"
     ]
    }
   ],
   "source": [
    "val (sqlContext, df) = demo.createTwitterDataFrames(sc)"
   ]
  },
  {
   "cell_type": "code",
   "execution_count": 8,
   "metadata": {
    "collapsed": false
   },
   "outputs": [],
   "source": [
    "val fullSet = sqlContext.sql(\"select text from tweets\")"
   ]
  },
  {
   "cell_type": "code",
   "execution_count": 9,
   "metadata": {
    "collapsed": false
   },
   "outputs": [
    {
     "name": "stdout",
     "output_type": "stream",
     "text": [
      "+--------------------+\n",
      "|                text|\n",
      "+--------------------+\n",
      "|@paprimary Is you...|\n",
      "|People really sho...|\n",
      "|Justice for 34 Mo...|\n",
      "|Horny... https://...|\n",
      "|RT @mariopanganib...|\n",
      "|RT @mhannah23834:...|\n",
      "|@TOUGHRONY I FOUN...|\n",
      "|RT @hazstylestras...|\n",
      "|RT @meg_gravy: 1/...|\n",
      "|RT @aldenrichards...|\n",
      "|RT @UkUrbansFines...|\n",
      "|@susanita1968 @sa...|\n",
      "|RT @CarCrashesTV:...|\n",
      "|Soooo #Valentines...|\n",
      "|@fpdirienzo97 htt...|\n",
      "|5 Tips For Your G...|\n",
      "|RT @justinsunicor...|\n",
      "|RT @riena_chicis:...|\n",
      "|For Lent the Fait...|\n",
      "|Be comfortable wi...|\n",
      "+--------------------+\n",
      "\n"
     ]
    }
   ],
   "source": [
    "fullSet.show"
   ]
  },
  {
   "cell_type": "code",
   "execution_count": null,
   "metadata": {
    "collapsed": false
   },
   "outputs": [],
   "source": [
    "fullSet.repartition(1).saveAsParquetFile(\"swift://notebooks.spark/tweetsFull.parquet\")"
   ]
  },
  {
   "cell_type": "code",
   "execution_count": 10,
   "metadata": {
    "collapsed": false
   },
   "outputs": [
    {
     "name": "stdout",
     "output_type": "stream",
     "text": [
      "37\n",
      "+--------------------+--------------------+-----+\n",
      "|              author|                text|Anger|\n",
      "+--------------------+--------------------+-----+\n",
      "|               chloe|RT @mhannah23834:...|100.0|\n",
      "|        Lisa Gilbert|RT @CarCrashesTV:...|100.0|\n",
      "|              Johnny|HOLY FUCK THAT LA...|100.0|\n",
      "|         ?VAN???A_Sg|RT @AlDubPhBukidn...|100.0|\n",
      "|        ?et?o?read??|Bitchs* https://t...|100.0|\n",
      "|    Texas Wildflower|Can't blame them ...|100.0|\n",
      "|         Queen Tori?|RT @ArmaniB_tch: ...|100.0|\n",
      "|      Low's Nephew ?|Free Coby thats m...|100.0|\n",
      "|                Luck|RT @mega_focus: T...|100.0|\n",
      "|                OPPA|RT @girlposts: It...|100.0|\n",
      "|     Jaylyn thickums|@imustbecarli dam...|100.0|\n",
      "|               alana|RT @skrongmeat_: ...|100.0|\n",
      "|      Jessica Robles|Half pint steamin...|100.0|\n",
      "|     Entwined Graces|Hate flights at t...|100.0|\n",
      "|     SavageAhhRichie|Periscope is slic...|100.0|\n",
      "|                 Lee| Mad as fuck bro ...|100.0|\n",
      "|                   ?|Got me mad omm idgaf|100.0|\n",
      "|Ariana Grande???????|RT @ChinneyKay: J...|100.0|\n",
      "|           infamous.|RT @GirlThatsVont...|100.0|\n",
      "|               Daddy|RT @ChinneyKay: J...|100.0|\n",
      "+--------------------+--------------------+-----+\n",
      "\n"
     ]
    }
   ],
   "source": [
    "val angerSet = sqlContext.sql(\"select author, text, Anger from tweets where Anger > 60\")\n",
    "println(angerSet.count)\n",
    "angerSet.show"
   ]
  },
  {
   "cell_type": "code",
   "execution_count": null,
   "metadata": {
    "collapsed": true
   },
   "outputs": [],
   "source": []
  }
 ],
 "metadata": {
  "kernelspec": {
   "display_name": "Scala 2.10",
   "language": "scala",
   "name": "spark"
  },
  "language_info": {
   "name": "scala"
  }
 },
 "nbformat": 4,
 "nbformat_minor": 0
}